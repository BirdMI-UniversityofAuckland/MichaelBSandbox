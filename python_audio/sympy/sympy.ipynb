{
 "metadata": {
  "name": ""
 },
 "nbformat": 3,
 "nbformat_minor": 0,
 "worksheets": [
  {
   "cells": [
    {
     "cell_type": "heading",
     "level": 1,
     "metadata": {},
     "source": [
      "Some Random SymPy Stuff"
     ]
    },
    {
     "cell_type": "code",
     "collapsed": false,
     "input": [
      "from sympy import *\n",
      "init_printing()\n",
      "\n",
      "# for older SymPy versions:\n",
      "#%load_ext sympy.interactive.ipythonprinting\n",
      "\n",
      "# for even older IPython/SymPy versions:\n",
      "#%load_ext sympyprinting"
     ],
     "language": "python",
     "metadata": {},
     "outputs": [],
     "prompt_number": 1
    },
    {
     "cell_type": "code",
     "collapsed": false,
     "input": [
      "x, y = symbols(\"x, y\")"
     ],
     "language": "python",
     "metadata": {},
     "outputs": [],
     "prompt_number": 2
    },
    {
     "cell_type": "code",
     "collapsed": false,
     "input": [
      "(pi + x)**2"
     ],
     "language": "python",
     "metadata": {},
     "outputs": [
      {
       "latex": [
        "$$\\left(x + \\pi\\right)^{2}$$"
       ],
       "metadata": {},
       "output_type": "pyout",
       "png": "[encoded data removed]",
       "prompt_number": 3,
       "text": [
        "       2\n",
        "(x + \u03c0) "
       ]
      }
     ],
     "prompt_number": 3
    },
    {
     "cell_type": "code",
     "collapsed": false,
     "input": [
      "eq = ((x + y)**2 * (x + 1))\n",
      "eq"
     ],
     "language": "python",
     "metadata": {},
     "outputs": [
      {
       "latex": [
        "$$\\left(x + 1\\right) \\left(x + y\\right)^{2}$$"
       ],
       "metadata": {},
       "output_type": "pyout",
       "png": "[encoded data removed]",
       "prompt_number": 4,
       "text": [
        "               2\n",
        "(x + 1)\u22c5(x + y) "
       ]
      }
     ],
     "prompt_number": 4
    },
    {
     "cell_type": "code",
     "collapsed": false,
     "input": [
      "expand(eq)"
     ],
     "language": "python",
     "metadata": {},
     "outputs": [
      {
       "latex": [
        "$$x^{3} + 2 x^{2} y + x^{2} + x y^{2} + 2 x y + y^{2}$$"
       ],
       "metadata": {},
       "output_type": "pyout",
       "png": "[encoded data removed]",
       "prompt_number": 5,
       "text": [
        " 3      2      2      2            2\n",
        "x  + 2\u22c5x \u22c5y + x  + x\u22c5y  + 2\u22c5x\u22c5y + y "
       ]
      }
     ],
     "prompt_number": 5
    },
    {
     "cell_type": "code",
     "collapsed": false,
     "input": [
      "diff(cos(x**2)**2 / (1 + x), x)"
     ],
     "language": "python",
     "metadata": {},
     "outputs": [
      {
       "latex": [
        "$$- \\frac{4 x \\cos{\\left (x^{2} \\right )}}{x + 1} \\sin{\\left (x^{2} \\right )} - \\frac{\\cos^{2}{\\left (x^{2} \\right )}}{\\left(x + 1\\right)^{2}}$$"
       ],
       "metadata": {},
       "output_type": "pyout",
       "png": "[encoded data removed]",
       "prompt_number": 6,
       "text": [
        "         \u239b 2\u239e    \u239b 2\u239e      2\u239b 2\u239e\n",
        "  4\u22c5x\u22c5sin\u239dx \u23a0\u22c5cos\u239dx \u23a0   cos \u239dx \u23a0\n",
        "- \u2500\u2500\u2500\u2500\u2500\u2500\u2500\u2500\u2500\u2500\u2500\u2500\u2500\u2500\u2500\u2500\u2500\u2500\u2500 - \u2500\u2500\u2500\u2500\u2500\u2500\u2500\u2500\n",
        "         x + 1                 2\n",
        "                        (x + 1) "
       ]
      }
     ],
     "prompt_number": 6
    },
    {
     "cell_type": "code",
     "collapsed": false,
     "input": [
      "x = Symbol('x', positive=True)\n",
      "x > 0"
     ],
     "language": "python",
     "metadata": {},
     "outputs": [
      {
       "metadata": {},
       "output_type": "pyout",
       "prompt_number": 7,
       "text": [
        "True"
       ]
      }
     ],
     "prompt_number": 7
    },
    {
     "cell_type": "code",
     "collapsed": false,
     "input": [
      "exp(I * pi)"
     ],
     "language": "python",
     "metadata": {},
     "outputs": [
      {
       "latex": [
        "$$-1$$"
       ],
       "metadata": {},
       "output_type": "pyout",
       "png": "[encoded data removed]",
       "prompt_number": 8,
       "text": [
        "-1"
       ]
      }
     ],
     "prompt_number": 8
    },
    {
     "cell_type": "code",
     "collapsed": false,
     "input": [
      "oo"
     ],
     "language": "python",
     "metadata": {},
     "outputs": [
      {
       "latex": [
        "$$\\infty$$"
       ],
       "metadata": {},
       "output_type": "pyout",
       "png": "[encoded data removed]",
       "prompt_number": 9,
       "text": [
        "\u221e"
       ]
      }
     ],
     "prompt_number": 9
    },
    {
     "cell_type": "code",
     "collapsed": false,
     "input": [
      "a, b, c = symbols(\"a, b, c\")"
     ],
     "language": "python",
     "metadata": {},
     "outputs": [],
     "prompt_number": 10
    },
    {
     "cell_type": "code",
     "collapsed": false,
     "input": [
      "expand(sin(a + b), trig=True)"
     ],
     "language": "python",
     "metadata": {},
     "outputs": [
      {
       "latex": [
        "$$\\sin{\\left (a \\right )} \\cos{\\left (b \\right )} + \\sin{\\left (b \\right )} \\cos{\\left (a \\right )}$$"
       ],
       "metadata": {},
       "output_type": "pyout",
       "png": "[encoded data removed]",
       "prompt_number": 11,
       "text": [
        "sin(a)\u22c5cos(b) + sin(b)\u22c5cos(a)"
       ]
      }
     ],
     "prompt_number": 11
    },
    {
     "cell_type": "code",
     "collapsed": false,
     "input": [
      "simplify(sin(x)**2 + cos(x)**2)"
     ],
     "language": "python",
     "metadata": {},
     "outputs": [
      {
       "latex": [
        "$$1$$"
       ],
       "metadata": {},
       "output_type": "pyout",
       "png": "[encoded data removed]",
       "prompt_number": 12,
       "text": [
        "1"
       ]
      }
     ],
     "prompt_number": 12
    },
    {
     "cell_type": "code",
     "collapsed": false,
     "input": [
      "factor(x**3 + 6 * x**2 + 11*x + 6)"
     ],
     "language": "python",
     "metadata": {},
     "outputs": [
      {
       "latex": [
        "$$\\left(x + 1\\right) \\left(x + 2\\right) \\left(x + 3\\right)$$"
       ],
       "metadata": {},
       "output_type": "pyout",
       "png": "[encoded data removed]",
       "prompt_number": 13,
       "text": [
        "(x + 1)\u22c5(x + 2)\u22c5(x + 3)"
       ]
      }
     ],
     "prompt_number": 13
    },
    {
     "cell_type": "code",
     "collapsed": false,
     "input": [
      "simplify(cos(x)/sin(x))"
     ],
     "language": "python",
     "metadata": {},
     "outputs": [
      {
       "latex": [
        "$$\\frac{1}{\\tan{\\left (x \\right )}}$$"
       ],
       "metadata": {},
       "output_type": "pyout",
       "png": "[encoded data removed]",
       "prompt_number": 14,
       "text": [
        "  1   \n",
        "\u2500\u2500\u2500\u2500\u2500\u2500\n",
        "tan(x)"
       ]
      }
     ],
     "prompt_number": 14
    },
    {
     "cell_type": "code",
     "collapsed": false,
     "input": [
      "f1 = 1 / ((a + 1) * (a + 2))\n",
      "f1"
     ],
     "language": "python",
     "metadata": {},
     "outputs": [
      {
       "latex": [
        "$$\\frac{1}{\\left(a + 1\\right) \\left(a + 2\\right)}$$"
       ],
       "metadata": {},
       "output_type": "pyout",
       "png": "[encoded data removed]",
       "prompt_number": 15,
       "text": [
        "       1       \n",
        "\u2500\u2500\u2500\u2500\u2500\u2500\u2500\u2500\u2500\u2500\u2500\u2500\u2500\u2500\u2500\n",
        "(a + 1)\u22c5(a + 2)"
       ]
      }
     ],
     "prompt_number": 15
    },
    {
     "cell_type": "code",
     "collapsed": false,
     "input": [
      "apart(f1)"
     ],
     "language": "python",
     "metadata": {},
     "outputs": [
      {
       "latex": [
        "$$- \\frac{1}{a + 2} + \\frac{1}{a + 1}$$"
       ],
       "metadata": {},
       "output_type": "pyout",
       "png": "[encoded data removed]",
       "prompt_number": 16,
       "text": [
        "    1       1  \n",
        "- \u2500\u2500\u2500\u2500\u2500 + \u2500\u2500\u2500\u2500\u2500\n",
        "  a + 2   a + 1"
       ]
      }
     ],
     "prompt_number": 16
    },
    {
     "cell_type": "code",
     "collapsed": false,
     "input": [
      "z = Symbol('z')\n",
      "f = sin(x*y) + cos(y*z)\n",
      "f"
     ],
     "language": "python",
     "metadata": {},
     "outputs": [
      {
       "latex": [
        "$$\\sin{\\left (x y \\right )} + \\cos{\\left (y z \\right )}$$"
       ],
       "metadata": {},
       "output_type": "pyout",
       "png": "[encoded data removed]",
       "prompt_number": 17,
       "text": [
        "sin(x\u22c5y) + cos(y\u22c5z)"
       ]
      }
     ],
     "prompt_number": 17
    },
    {
     "cell_type": "code",
     "collapsed": false,
     "input": [
      "integrate(f, x)"
     ],
     "language": "python",
     "metadata": {},
     "outputs": [
      {
       "latex": [
        "$$x \\cos{\\left (y z \\right )} + \\begin{cases} 0 & \\text{for}\\: y = 0 \\\\- \\frac{1}{y} \\cos{\\left (x y \\right )} & \\text{otherwise} \\end{cases}$$"
       ],
       "metadata": {},
       "output_type": "pyout",
       "png": "[encoded data removed]",
       "prompt_number": 18,
       "text": [
        "             \u239b\u23a7    0       for y = 0\u239e\n",
        "             \u239c\u23aa                     \u239f\n",
        "x\u22c5cos(y\u22c5z) + \u239c\u23a8-cos(x\u22c5y)            \u239f\n",
        "             \u239c\u23aa\u2500\u2500\u2500\u2500\u2500\u2500\u2500\u2500\u2500\u2500  otherwise\u239f\n",
        "             \u239d\u23a9    y                \u23a0"
       ]
      }
     ],
     "prompt_number": 18
    },
    {
     "cell_type": "code",
     "collapsed": false,
     "input": [
      "integrate(exp(-x**2), x)"
     ],
     "language": "python",
     "metadata": {},
     "outputs": [
      {
       "latex": [
        "$$\\frac{\\sqrt{\\pi}}{2} \\operatorname{erf}{\\left (x \\right )}$$"
       ],
       "metadata": {},
       "output_type": "pyout",
       "png": "[encoded data removed]",
       "prompt_number": 19,
       "text": [
        "  ___       \n",
        "\u2572\u2571 \u03c0 \u22c5erf(x)\n",
        "\u2500\u2500\u2500\u2500\u2500\u2500\u2500\u2500\u2500\u2500\u2500\u2500\n",
        "     2      "
       ]
      }
     ],
     "prompt_number": 19
    },
    {
     "cell_type": "code",
     "collapsed": false,
     "input": [
      "integrate(exp(-x**2), (x, -oo, oo))"
     ],
     "language": "python",
     "metadata": {},
     "outputs": [
      {
       "latex": [
        "$$\\sqrt{\\pi}$$"
       ],
       "metadata": {},
       "output_type": "pyout",
       "png": "[encoded data removed]",
       "prompt_number": 20,
       "text": [
        "  ___\n",
        "\u2572\u2571 \u03c0 "
       ]
      }
     ],
     "prompt_number": 20
    },
    {
     "cell_type": "code",
     "collapsed": false,
     "input": [
      "integrate(x + sinh(x), x)"
     ],
     "language": "python",
     "metadata": {},
     "outputs": [
      {
       "latex": [
        "$$\\frac{x^{2}}{2} + \\cosh{\\left (x \\right )}$$"
       ],
       "metadata": {},
       "output_type": "pyout",
       "png": "[encoded data removed]",
       "prompt_number": 21,
       "text": [
        " 2          \n",
        "x           \n",
        "\u2500\u2500 + cosh(x)\n",
        "2           "
       ]
      }
     ],
     "prompt_number": 21
    },
    {
     "cell_type": "code",
     "collapsed": false,
     "input": [
      "diff(_, x)"
     ],
     "language": "python",
     "metadata": {},
     "outputs": [
      {
       "latex": [
        "$$x + \\sinh{\\left (x \\right )}$$"
       ],
       "metadata": {},
       "output_type": "pyout",
       "png": "[encoded data removed]",
       "prompt_number": 22,
       "text": [
        "x + sinh(x)"
       ]
      }
     ],
     "prompt_number": 22
    },
    {
     "cell_type": "code",
     "collapsed": false,
     "input": [
      "limit(sin(pi * x) / x, x, 0)"
     ],
     "language": "python",
     "metadata": {},
     "outputs": [
      {
       "latex": [
        "$$\\pi$$"
       ],
       "metadata": {},
       "output_type": "pyout",
       "png": "[encoded data removed]",
       "prompt_number": 23,
       "text": [
        "\u03c0"
       ]
      }
     ],
     "prompt_number": 23
    },
    {
     "cell_type": "code",
     "collapsed": false,
     "input": [
      "e = 1/(x + y)\n",
      "e"
     ],
     "language": "python",
     "metadata": {},
     "outputs": [
      {
       "latex": [
        "$$\\frac{1}{x + y}$$"
       ],
       "metadata": {},
       "output_type": "pyout",
       "png": "[encoded data removed]",
       "prompt_number": 24,
       "text": [
        "  1  \n",
        "\u2500\u2500\u2500\u2500\u2500\n",
        "x + y"
       ]
      }
     ],
     "prompt_number": 24
    },
    {
     "cell_type": "code",
     "collapsed": false,
     "input": [
      "e.series(x)"
     ],
     "language": "python",
     "metadata": {},
     "outputs": [
      {
       "latex": [
        "$$\\frac{1}{y} - \\frac{x}{y^{2}} + \\frac{x^{2}}{y^{3}} - \\frac{x^{3}}{y^{4}} + \\frac{x^{4}}{y^{5}} - \\frac{x^{5}}{y^{6}} + \\mathcal{O}\\left(x^{6}\\right)$$"
       ],
       "metadata": {},
       "output_type": "pyout",
       "png": "[encoded data removed]",
       "prompt_number": 25,
       "text": [
        "          2    3    4    5        \n",
        "1   x    x    x    x    x     \u239b 6\u239e\n",
        "\u2500 - \u2500\u2500 + \u2500\u2500 - \u2500\u2500 + \u2500\u2500 - \u2500\u2500 + O\u239dx \u23a0\n",
        "y    2    3    4    5    6        \n",
        "    y    y    y    y    y         "
       ]
      }
     ],
     "prompt_number": 25
    },
    {
     "cell_type": "code",
     "collapsed": false,
     "input": [
      "series(exp(x), x)"
     ],
     "language": "python",
     "metadata": {},
     "outputs": [
      {
       "latex": [
        "$$1 + x + \\frac{x^{2}}{2} + \\frac{x^{3}}{6} + \\frac{x^{4}}{24} + \\frac{x^{5}}{120} + \\mathcal{O}\\left(x^{6}\\right)$$"
       ],
       "metadata": {},
       "output_type": "pyout",
       "png": "[encoded data removed]",
       "prompt_number": 26,
       "text": [
        "         2    3    4     5        \n",
        "        x    x    x     x     \u239b 6\u239e\n",
        "1 + x + \u2500\u2500 + \u2500\u2500 + \u2500\u2500 + \u2500\u2500\u2500 + O\u239dx \u23a0\n",
        "        2    6    24   120        "
       ]
      }
     ],
     "prompt_number": 26
    },
    {
     "cell_type": "code",
     "collapsed": false,
     "input": [
      "pi.evalf(100)"
     ],
     "language": "python",
     "metadata": {},
     "outputs": [
      {
       "latex": [
        "$$3.141592653589793238462643383279502884197169399375105820974944592307816406286208998628034825342117068$$"
       ],
       "metadata": {},
       "output_type": "pyout",
       "png": "[encoded data removed]",
       "prompt_number": 27,
       "text": [
        "3.1415926535897932384626433832795028841971693993751058209749445923078164062862\n",
        "08998628034825342117068"
       ]
      }
     ],
     "prompt_number": 27
    },
    {
     "cell_type": "code",
     "collapsed": false,
     "input": [
      "solve(x**4 - x**2 - 1, x)"
     ],
     "language": "python",
     "metadata": {},
     "outputs": [
      {
       "latex": [
        "$$\\begin{bmatrix}\\sqrt{\\frac{1}{2} + \\frac{\\sqrt{5}}{2}}\\end{bmatrix}$$"
       ],
       "metadata": {},
       "output_type": "pyout",
       "png": "[encoded data removed]",
       "prompt_number": 28,
       "text": [
        "\u23a1     ___________\u23a4\n",
        "\u23a2    \u2571       ___ \u23a5\n",
        "\u23a2   \u2571  1   \u2572\u2571 5  \u23a5\n",
        "\u23a2  \u2571   \u2500 + \u2500\u2500\u2500\u2500\u2500 \u23a5\n",
        "\u23a3\u2572\u2571    2     2   \u23a6"
       ]
      }
     ],
     "prompt_number": 28
    },
    {
     "cell_type": "code",
     "collapsed": false,
     "input": [
      "solve([x + y - 1, x - y - 1], [x,y])"
     ],
     "language": "python",
     "metadata": {},
     "outputs": [
      {
       "latex": [
        "$$\\begin{Bmatrix}x : 1, & y : 0\\end{Bmatrix}$$"
       ],
       "metadata": {},
       "output_type": "pyout",
       "png": "[encoded data removed]",
       "prompt_number": 29,
       "text": [
        "{x: 1, y: 0}"
       ]
      }
     ],
     "prompt_number": 29
    },
    {
     "cell_type": "code",
     "collapsed": false,
     "input": [
      "solve([x + y - a, x - y - c], [x,y])"
     ],
     "language": "python",
     "metadata": {},
     "outputs": [
      {
       "latex": [
        "$$\\begin{Bmatrix}x : \\frac{a}{2} + \\frac{c}{2}, & y : \\frac{a}{2} - \\frac{c}{2}\\end{Bmatrix}$$"
       ],
       "metadata": {},
       "output_type": "pyout",
       "png": "[encoded data removed]",
       "prompt_number": 30,
       "text": [
        "\u23a7   a   c     a   c\u23ab\n",
        "\u23a8x: \u2500 + \u2500, y: \u2500 - \u2500\u23ac\n",
        "\u23a9   2   2     2   2\u23ad"
       ]
      }
     ],
     "prompt_number": 30
    },
    {
     "cell_type": "code",
     "collapsed": false,
     "input": [
      "var('m:q')"
     ],
     "language": "python",
     "metadata": {},
     "outputs": [
      {
       "latex": [
        "$$\\begin{pmatrix}m, & n, & o, & p, & q\\end{pmatrix}$$"
       ],
       "metadata": {},
       "output_type": "pyout",
       "png": "[encoded data removed]",
       "prompt_number": 31,
       "text": [
        "(m, n, o, p, q)"
       ]
      }
     ],
     "prompt_number": 31
    },
    {
     "cell_type": "code",
     "collapsed": false,
     "input": [
      "var('r:5')"
     ],
     "language": "python",
     "metadata": {},
     "outputs": [
      {
       "latex": [
        "$$\\begin{pmatrix}r_{0}, & r_{1}, & r_{2}, & r_{3}, & r_{4}\\end{pmatrix}$$"
       ],
       "metadata": {},
       "output_type": "pyout",
       "png": "[encoded data removed]",
       "prompt_number": 32,
       "text": [
        "(r\u2080, r\u2081, r\u2082, r\u2083, r\u2084)"
       ]
      }
     ],
     "prompt_number": 32
    },
    {
     "cell_type": "code",
     "collapsed": false,
     "input": [
      "m = symbols('m')\n",
      "M = Matrix([[1, m], [3, 4]])\n",
      "M"
     ],
     "language": "python",
     "metadata": {},
     "outputs": [
      {
       "latex": [
        "$$\\left[\\begin{matrix}1 & m\\\\3 & 4\\end{matrix}\\right]$$"
       ],
       "metadata": {},
       "output_type": "pyout",
       "png": "[encoded data removed]",
       "prompt_number": 33,
       "text": [
        "\u23a11  m\u23a4\n",
        "\u23a2    \u23a5\n",
        "\u23a33  4\u23a6"
       ]
      }
     ],
     "prompt_number": 33
    },
    {
     "cell_type": "code",
     "collapsed": false,
     "input": [
      "M.inv()"
     ],
     "language": "python",
     "metadata": {},
     "outputs": [
      {
       "latex": [
        "$$\\left[\\begin{matrix}\\frac{3 m}{- 3 m + 4} + 1 & - \\frac{m}{- 3 m + 4}\\\\- \\frac{3}{- 3 m + 4} & \\frac{1}{- 3 m + 4}\\end{matrix}\\right]$$"
       ],
       "metadata": {},
       "output_type": "pyout",
       "png": "[encoded data removed]",
       "prompt_number": 34,
       "text": [
        "\u23a1  3\u22c5m           -m    \u23a4\n",
        "\u23a2\u2500\u2500\u2500\u2500\u2500\u2500\u2500\u2500 + 1  \u2500\u2500\u2500\u2500\u2500\u2500\u2500\u2500\u23a5\n",
        "\u23a2-3\u22c5m + 4      -3\u22c5m + 4\u23a5\n",
        "\u23a2                      \u23a5\n",
        "\u23a2    -3           1    \u23a5\n",
        "\u23a2  \u2500\u2500\u2500\u2500\u2500\u2500\u2500\u2500    \u2500\u2500\u2500\u2500\u2500\u2500\u2500\u2500\u23a5\n",
        "\u23a3  -3\u22c5m + 4    -3\u22c5m + 4\u23a6"
       ]
      }
     ],
     "prompt_number": 34
    },
    {
     "cell_type": "code",
     "collapsed": false,
     "input": [
      "m11, m12, m21, m22 = symbols(\"m11, m12, m21, m22\")\n",
      "b1, b2 = symbols(\"b1, b2\")\n",
      "A = Matrix([[m11, m12],[m21, m22]])\n",
      "A"
     ],
     "language": "python",
     "metadata": {},
     "outputs": [
      {
       "latex": [
        "$$\\left[\\begin{matrix}m_{11} & m_{12}\\\\m_{21} & m_{22}\\end{matrix}\\right]$$"
       ],
       "metadata": {},
       "output_type": "pyout",
       "png": "[encoded data removed]",
       "prompt_number": 35,
       "text": [
        "\u23a1m\u2081\u2081  m\u2081\u2082\u23a4\n",
        "\u23a2        \u23a5\n",
        "\u23a3m\u2082\u2081  m\u2082\u2082\u23a6"
       ]
      }
     ],
     "prompt_number": 35
    },
    {
     "cell_type": "code",
     "collapsed": false,
     "input": [
      "b = Matrix([[b1], [b2]])\n",
      "b"
     ],
     "language": "python",
     "metadata": {},
     "outputs": [
      {
       "latex": [
        "$$\\left[\\begin{matrix}b_{1}\\\\b_{2}\\end{matrix}\\right]$$"
       ],
       "metadata": {},
       "output_type": "pyout",
       "png": "[encoded data removed]",
       "prompt_number": 36,
       "text": [
        "\u23a1b\u2081\u23a4\n",
        "\u23a2  \u23a5\n",
        "\u23a3b\u2082\u23a6"
       ]
      }
     ],
     "prompt_number": 36
    },
    {
     "cell_type": "code",
     "collapsed": false,
     "input": [
      "A**2"
     ],
     "language": "python",
     "metadata": {},
     "outputs": [
      {
       "latex": [
        "$$\\left[\\begin{matrix}m_{11}^{2} + m_{12} m_{21} & m_{11} m_{12} + m_{12} m_{22}\\\\m_{11} m_{21} + m_{21} m_{22} & m_{12} m_{21} + m_{22}^{2}\\end{matrix}\\right]$$"
       ],
       "metadata": {},
       "output_type": "pyout",
       "png": "[encoded data removed]",
       "prompt_number": 37,
       "text": [
        "\u23a1    2                               \u23a4\n",
        "\u23a2 m\u2081\u2081  + m\u2081\u2082\u22c5m\u2082\u2081    m\u2081\u2081\u22c5m\u2081\u2082 + m\u2081\u2082\u22c5m\u2082\u2082\u23a5\n",
        "\u23a2                                    \u23a5\n",
        "\u23a2                                 2  \u23a5\n",
        "\u23a3m\u2081\u2081\u22c5m\u2082\u2081 + m\u2082\u2081\u22c5m\u2082\u2082   m\u2081\u2082\u22c5m\u2082\u2081 + m\u2082\u2082   \u23a6"
       ]
      }
     ],
     "prompt_number": 37
    },
    {
     "cell_type": "code",
     "collapsed": false,
     "input": [
      "A * b"
     ],
     "language": "python",
     "metadata": {},
     "outputs": [
      {
       "latex": [
        "$$\\left[\\begin{matrix}b_{1} m_{11} + b_{2} m_{12}\\\\b_{1} m_{21} + b_{2} m_{22}\\end{matrix}\\right]$$"
       ],
       "metadata": {},
       "output_type": "pyout",
       "png": "[encoded data removed]",
       "prompt_number": 38,
       "text": [
        "\u23a1b\u2081\u22c5m\u2081\u2081 + b\u2082\u22c5m\u2081\u2082\u23a4\n",
        "\u23a2               \u23a5\n",
        "\u23a3b\u2081\u22c5m\u2082\u2081 + b\u2082\u22c5m\u2082\u2082\u23a6"
       ]
      }
     ],
     "prompt_number": 38
    },
    {
     "cell_type": "code",
     "collapsed": false,
     "input": [
      "A.det()"
     ],
     "language": "python",
     "metadata": {},
     "outputs": [
      {
       "latex": [
        "$$m_{11} m_{22} - m_{12} m_{21}$$"
       ],
       "metadata": {},
       "output_type": "pyout",
       "png": "[encoded data removed]",
       "prompt_number": 39,
       "text": [
        "m\u2081\u2081\u22c5m\u2082\u2082 - m\u2081\u2082\u22c5m\u2082\u2081"
       ]
      }
     ],
     "prompt_number": 39
    },
    {
     "cell_type": "code",
     "collapsed": false,
     "input": [
      "A.inv()"
     ],
     "language": "python",
     "metadata": {},
     "outputs": [
      {
       "latex": [
        "$$\\left[\\begin{matrix}\\frac{1}{m_{11}} + \\frac{m_{12} m_{21}}{m_{11}^{2} \\left(m_{22} - \\frac{m_{12} m_{21}}{m_{11}}\\right)} & - \\frac{m_{12}}{m_{11} \\left(m_{22} - \\frac{m_{12} m_{21}}{m_{11}}\\right)}\\\\- \\frac{m_{21}}{m_{11} \\left(m_{22} - \\frac{m_{12} m_{21}}{m_{11}}\\right)} & \\frac{1}{m_{22} - \\frac{m_{12} m_{21}}{m_{11}}}\\end{matrix}\\right]$$"
       ],
       "metadata": {},
       "output_type": "pyout",
       "png": "[encoded data removed]",
       "prompt_number": 40,
       "text": [
        "\u23a1 1          m\u2081\u2082\u22c5m\u2082\u2081                -m\u2081\u2082        \u23a4\n",
        "\u23a2\u2500\u2500\u2500 + \u2500\u2500\u2500\u2500\u2500\u2500\u2500\u2500\u2500\u2500\u2500\u2500\u2500\u2500\u2500\u2500\u2500\u2500\u2500\u2500  \u2500\u2500\u2500\u2500\u2500\u2500\u2500\u2500\u2500\u2500\u2500\u2500\u2500\u2500\u2500\u2500\u2500\u2500\u2500\u23a5\n",
        "\u23a2m\u2081\u2081      2 \u239b      m\u2081\u2082\u22c5m\u2082\u2081\u239e      \u239b      m\u2081\u2082\u22c5m\u2082\u2081\u239e\u23a5\n",
        "\u23a2      m\u2081\u2081 \u22c5\u239cm\u2082\u2082 - \u2500\u2500\u2500\u2500\u2500\u2500\u2500\u239f  m\u2081\u2081\u22c5\u239cm\u2082\u2082 - \u2500\u2500\u2500\u2500\u2500\u2500\u2500\u239f\u23a5\n",
        "\u23a2           \u239d        m\u2081\u2081  \u23a0      \u239d        m\u2081\u2081  \u23a0\u23a5\n",
        "\u23a2                                               \u23a5\n",
        "\u23a2          -m\u2082\u2081                       1         \u23a5\n",
        "\u23a2   \u2500\u2500\u2500\u2500\u2500\u2500\u2500\u2500\u2500\u2500\u2500\u2500\u2500\u2500\u2500\u2500\u2500\u2500\u2500         \u2500\u2500\u2500\u2500\u2500\u2500\u2500\u2500\u2500\u2500\u2500\u2500\u2500   \u23a5\n",
        "\u23a2       \u239b      m\u2081\u2082\u22c5m\u2082\u2081\u239e               m\u2081\u2082\u22c5m\u2082\u2081   \u23a5\n",
        "\u23a2   m\u2081\u2081\u22c5\u239cm\u2082\u2082 - \u2500\u2500\u2500\u2500\u2500\u2500\u2500\u239f         m\u2082\u2082 - \u2500\u2500\u2500\u2500\u2500\u2500\u2500   \u23a5\n",
        "\u23a3       \u239d        m\u2081\u2081  \u23a0                 m\u2081\u2081     \u23a6"
       ]
      }
     ],
     "prompt_number": 40
    },
    {
     "cell_type": "markdown",
     "metadata": {},
     "source": [
      "from https://github.com/sympy/sympy/wiki/Matrices-eigenvalues"
     ]
    },
    {
     "cell_type": "code",
     "collapsed": false,
     "input": [
      "M = Matrix(4, 4, lambda i, j: i * j + 1)\n",
      "M"
     ],
     "language": "python",
     "metadata": {},
     "outputs": [
      {
       "latex": [
        "$$\\left[\\begin{matrix}1 & 1 & 1 & 1\\\\1 & 2 & 3 & 4\\\\1 & 3 & 5 & 7\\\\1 & 4 & 7 & 10\\end{matrix}\\right]$$"
       ],
       "metadata": {},
       "output_type": "pyout",
       "png": "[encoded data removed]",
       "prompt_number": 41,
       "text": [
        "\u23a11  1  1  1 \u23a4\n",
        "\u23a2           \u23a5\n",
        "\u23a21  2  3  4 \u23a5\n",
        "\u23a2           \u23a5\n",
        "\u23a21  3  5  7 \u23a5\n",
        "\u23a2           \u23a5\n",
        "\u23a31  4  7  10\u23a6"
       ]
      }
     ],
     "prompt_number": 41
    },
    {
     "cell_type": "code",
     "collapsed": false,
     "input": [
      "M.eigenvals()"
     ],
     "language": "python",
     "metadata": {},
     "outputs": [
      {
       "latex": [
        "$$\\begin{Bmatrix}0 : 2, & - \\sqrt{61} + 9 : 1, & \\sqrt{61} + 9 : 1\\end{Bmatrix}$$"
       ],
       "metadata": {},
       "output_type": "pyout",
       "png": "[encoded data removed]",
       "prompt_number": 42,
       "text": [
        "\u23a7          ____           ____       \u23ab\n",
        "\u23a80: 2, - \u2572\u2571 61  + 9: 1, \u2572\u2571 61  + 9: 1\u23ac\n",
        "\u23a9                                    \u23ad"
       ]
      }
     ],
     "prompt_number": 42
    },
    {
     "cell_type": "code",
     "collapsed": false,
     "input": [
      "M = Matrix(4, 4, lambda i, j: i * j + 2)\n",
      "M"
     ],
     "language": "python",
     "metadata": {},
     "outputs": [
      {
       "latex": [
        "$$\\left[\\begin{matrix}2 & 2 & 2 & 2\\\\2 & 3 & 4 & 5\\\\2 & 4 & 6 & 8\\\\2 & 5 & 8 & 11\\end{matrix}\\right]$$"
       ],
       "metadata": {},
       "output_type": "pyout",
       "png": "[encoded data removed]",
       "prompt_number": 43,
       "text": [
        "\u23a12  2  2  2 \u23a4\n",
        "\u23a2           \u23a5\n",
        "\u23a22  3  4  5 \u23a5\n",
        "\u23a2           \u23a5\n",
        "\u23a22  4  6  8 \u23a5\n",
        "\u23a2           \u23a5\n",
        "\u23a32  5  8  11\u23a6"
       ]
      }
     ],
     "prompt_number": 43
    },
    {
     "cell_type": "code",
     "collapsed": false,
     "input": [
      "M.eigenvals()"
     ],
     "language": "python",
     "metadata": {},
     "outputs": [
      {
       "latex": [
        "$$\\begin{Bmatrix}0 : 2, & 2 : 1, & 20 : 1\\end{Bmatrix}$$"
       ],
       "metadata": {},
       "output_type": "pyout",
       "png": "[encoded data removed]",
       "prompt_number": 44,
       "text": [
        "{0: 2, 2: 1, 20: 1}"
       ]
      }
     ],
     "prompt_number": 44
    },
    {
     "cell_type": "code",
     "collapsed": false,
     "input": [
      "M = Matrix(4, 4, lambda i, j: i * j + 3)\n",
      "M"
     ],
     "language": "python",
     "metadata": {},
     "outputs": [
      {
       "latex": [
        "$$\\left[\\begin{matrix}3 & 3 & 3 & 3\\\\3 & 4 & 5 & 6\\\\3 & 5 & 7 & 9\\\\3 & 6 & 9 & 12\\end{matrix}\\right]$$"
       ],
       "metadata": {},
       "output_type": "pyout",
       "png": "[encoded data removed]",
       "prompt_number": 45,
       "text": [
        "\u23a13  3  3  3 \u23a4\n",
        "\u23a2           \u23a5\n",
        "\u23a23  4  5  6 \u23a5\n",
        "\u23a2           \u23a5\n",
        "\u23a23  5  7  9 \u23a5\n",
        "\u23a2           \u23a5\n",
        "\u23a33  6  9  12\u23a6"
       ]
      }
     ],
     "prompt_number": 45
    },
    {
     "cell_type": "code",
     "collapsed": false,
     "input": [
      "M.eigenvals()"
     ],
     "language": "python",
     "metadata": {},
     "outputs": [
      {
       "latex": [
        "$$\\begin{Bmatrix}0 : 2, & - \\sqrt{109} + 13 : 1, & \\sqrt{109} + 13 : 1\\end{Bmatrix}$$"
       ],
       "metadata": {},
       "output_type": "pyout",
       "png": "[encoded data removed]",
       "prompt_number": 46,
       "text": [
        "\u23a7          _____            _____        \u23ab\n",
        "\u23a80: 2, - \u2572\u2571 109  + 13: 1, \u2572\u2571 109  + 13: 1\u23ac\n",
        "\u23a9                                        \u23ad"
       ]
      }
     ],
     "prompt_number": 46
    },
    {
     "cell_type": "code",
     "collapsed": false,
     "input": [
      "from sympy.abc import x\n",
      "M = Matrix(4, 4, lambda i, j: i * j + x)\n",
      "M"
     ],
     "language": "python",
     "metadata": {},
     "outputs": [
      {
       "latex": [
        "$$\\left[\\begin{matrix}x & x & x & x\\\\x & x + 1 & x + 2 & x + 3\\\\x & x + 2 & x + 4 & x + 6\\\\x & x + 3 & x + 6 & x + 9\\end{matrix}\\right]$$"
       ],
       "metadata": {},
       "output_type": "pyout",
       "png": "[encoded data removed]",
       "prompt_number": 47,
       "text": [
        "\u23a1x    x      x      x  \u23a4\n",
        "\u23a2                      \u23a5\n",
        "\u23a2x  x + 1  x + 2  x + 3\u23a5\n",
        "\u23a2                      \u23a5\n",
        "\u23a2x  x + 2  x + 4  x + 6\u23a5\n",
        "\u23a2                      \u23a5\n",
        "\u23a3x  x + 3  x + 6  x + 9\u23a6"
       ]
      }
     ],
     "prompt_number": 47
    },
    {
     "cell_type": "code",
     "collapsed": false,
     "input": [
      "M.eigenvals()"
     ],
     "language": "python",
     "metadata": {},
     "outputs": [
      {
       "latex": [
        "$$\\begin{Bmatrix}0 : 2, & 2 x - \\sqrt{4 x^{2} + 8 x + 49} + 7 : 1, & 2 x + \\sqrt{4 x^{2} + 8 x + 49} + 7 : 1\\end{Bmatrix}$$"
       ],
       "metadata": {},
       "output_type": "pyout",
       "png": "[encoded data removed]",
       "prompt_number": 48,
       "text": [
        "\u23a7               _________________                  _________________       \u23ab\n",
        "\u23a8              \u2571    2                             \u2571    2                   \u23ac\n",
        "\u23a90: 2, 2\u22c5x - \u2572\u2571  4\u22c5x  + 8\u22c5x + 49  + 7: 1, 2\u22c5x + \u2572\u2571  4\u22c5x  + 8\u22c5x + 49  + 7: 1\u23ad"
       ]
      }
     ],
     "prompt_number": 48
    },
    {
     "cell_type": "markdown",
     "metadata": {},
     "source": [
      "from https://groups.google.com/forum/#!topic/sympy/mISLFQcEUIM"
     ]
    },
    {
     "cell_type": "code",
     "collapsed": false,
     "input": [
      "f = Piecewise((0, x <= -1), (Rational(1, 2), x < 1), (0, True))\n",
      "f"
     ],
     "language": "python",
     "metadata": {},
     "outputs": [
      {
       "latex": [
        "$$\\begin{cases} 0 & \\text{for}\\: x \\leq -1 \\\\\\frac{1}{2} & \\text{for}\\: x < 1 \\\\0 & \\text{otherwise} \\end{cases}$$"
       ],
       "metadata": {},
       "output_type": "pyout",
       "png": "[encoded data removed]",
       "prompt_number": 49,
       "text": [
        "\u23a7 0   for x \u2264 -1\n",
        "\u23aa               \n",
        "\u23a81/2  for x < 1 \n",
        "\u23aa               \n",
        "\u23a9 0   otherwise "
       ]
      }
     ],
     "prompt_number": 49
    },
    {
     "cell_type": "code",
     "collapsed": false,
     "input": [
      "#integrate(f.subs(x, x - y) * f(x), y)"
     ],
     "language": "python",
     "metadata": {},
     "outputs": [],
     "prompt_number": 50
    },
    {
     "cell_type": "code",
     "collapsed": false,
     "input": [
      "integrate(Heaviside(x + 1) / 2 - Heaviside(x - 1) / 2, (x, -10, -5))"
     ],
     "language": "python",
     "metadata": {},
     "outputs": [
      {
       "latex": [
        "$$- \\frac{5}{2}$$"
       ],
       "metadata": {},
       "output_type": "pyout",
       "png": "[encoded data removed]",
       "prompt_number": 51,
       "text": [
        "-5/2"
       ]
      }
     ],
     "prompt_number": 51
    },
    {
     "cell_type": "code",
     "collapsed": false,
     "input": [
      "q=Piecewise((0, x < 0), (x, x < 1), (0, True))\n",
      "q"
     ],
     "language": "python",
     "metadata": {},
     "outputs": [
      {
       "latex": [
        "$$\\begin{cases} 0 & \\text{for}\\: x < 0 \\\\x & \\text{for}\\: x < 1 \\\\0 & \\text{otherwise} \\end{cases}$$"
       ],
       "metadata": {},
       "output_type": "pyout",
       "png": "[encoded data removed]",
       "prompt_number": 52,
       "text": [
        "\u23a70  for x < 0\n",
        "\u23aa            \n",
        "\u23a8x  for x < 1\n",
        "\u23aa            \n",
        "\u23a90  otherwise"
       ]
      }
     ],
     "prompt_number": 52
    },
    {
     "cell_type": "code",
     "collapsed": false,
     "input": [
      "q.args"
     ],
     "language": "python",
     "metadata": {},
     "outputs": [
      {
       "latex": [
        "$$\\begin{pmatrix}\\begin{pmatrix}0, & x < 0\\end{pmatrix}, & \\begin{pmatrix}x, & x < 1\\end{pmatrix}, & \\begin{pmatrix}0, & \\mathrm{True}\\end{pmatrix}\\end{pmatrix}$$"
       ],
       "metadata": {},
       "output_type": "pyout",
       "png": "[encoded data removed]",
       "prompt_number": 53,
       "text": [
        "((0, x < 0), (x, x < 1), (0, True))"
       ]
      }
     ],
     "prompt_number": 53
    },
    {
     "cell_type": "markdown",
     "metadata": {},
     "source": [
      "from https://groups.google.com/forum/#!topic/sympy/tt8IA3y2sfQ"
     ]
    },
    {
     "cell_type": "code",
     "collapsed": false,
     "input": [
      "f = Lambda(x, exp(-x**2))\n",
      "f"
     ],
     "language": "python",
     "metadata": {},
     "outputs": [
      {
       "latex": [
        "$$\\Lambda {\\left (x, e^{- x^{2}} \\right )}$$"
       ],
       "metadata": {},
       "output_type": "pyout",
       "png": "[encoded data removed]",
       "prompt_number": 54,
       "text": [
        "       2\n",
        "     -x \n",
        "x \u21a6 \u212f   "
       ]
      }
     ],
     "prompt_number": 54
    },
    {
     "cell_type": "code",
     "collapsed": false,
     "input": [
      "conv = Integral(f(x-y)*f(y), (y, -oo, oo))\n",
      "conv"
     ],
     "language": "python",
     "metadata": {},
     "outputs": [
      {
       "latex": [
        "$$\\int_{-\\infty}^{\\infty} e^{- y^{2}} e^{- \\left(x - y\\right)^{2}}\\, dy$$"
       ],
       "metadata": {},
       "output_type": "pyout",
       "png": "[encoded data removed]",
       "prompt_number": 55,
       "text": [
        "\u221e                    \n",
        "\u2320                    \n",
        "\u23ae     2          2   \n",
        "\u23ae   -y   -(x - y)    \n",
        "\u23ae  \u212f   \u22c5\u212f          dy\n",
        "\u2321                    \n",
        "-\u221e                   "
       ]
      }
     ],
     "prompt_number": 55
    },
    {
     "cell_type": "code",
     "collapsed": false,
     "input": [
      "conv.subs({x:0})"
     ],
     "language": "python",
     "metadata": {},
     "outputs": [
      {
       "latex": [
        "$$\\int_{-\\infty}^{\\infty} e^{- 2 y^{2}}\\, dy$$"
       ],
       "metadata": {},
       "output_type": "pyout",
       "png": "[encoded data removed]",
       "prompt_number": 56,
       "text": [
        "\u221e           \n",
        "\u2320           \n",
        "\u23ae       2   \n",
        "\u23ae   -2\u22c5y    \n",
        "\u23ae  \u212f      dy\n",
        "\u2321           \n",
        "-\u221e          "
       ]
      }
     ],
     "prompt_number": 56
    },
    {
     "cell_type": "code",
     "collapsed": false,
     "input": [
      "l = lambdify(x, Integral(f(x), (x, -oo, oo)))\n",
      "#l(3) # doesn't work!"
     ],
     "language": "python",
     "metadata": {},
     "outputs": [],
     "prompt_number": 57
    },
    {
     "cell_type": "code",
     "collapsed": false,
     "input": [
      "l = lambdify(x, Integral(f(x), (x, -oo, oo)), \"sympy\")\n",
      "l(x)"
     ],
     "language": "python",
     "metadata": {},
     "outputs": [
      {
       "latex": [
        "$$\\int_{-\\infty}^{\\infty} e^{- x^{2}}\\, dx$$"
       ],
       "metadata": {},
       "output_type": "pyout",
       "png": "[encoded data removed]",
       "prompt_number": 58,
       "text": [
        "\u221e         \n",
        "\u2320         \n",
        "\u23ae     2   \n",
        "\u23ae   -x    \n",
        "\u23ae  \u212f    dx\n",
        "\u2321         \n",
        "-\u221e        "
       ]
      }
     ],
     "prompt_number": 58
    },
    {
     "cell_type": "markdown",
     "metadata": {},
     "source": [
      "from http://www.mare.ee/indrek/misc/convolution.pdf"
     ]
    },
    {
     "cell_type": "code",
     "collapsed": false,
     "input": [
      "import sympy.abc\n",
      "\n",
      "# Convolute two \"one-piece\" functions. Arguments F and G\n",
      "# are tuples in form (h(x) , a_h, b_h), where h(x) is\n",
      "# the function and [a_h, b_h) is the range where the functions\n",
      "# are non-zero.\n",
      "def convolute_onepiece(x, F, G):\n",
      "    f, a_f, b_f = F\n",
      "    g, a_g, b_g = G\n",
      "    # make sure ranges are in order, swap values if necessary\n",
      "    if b_f - a_f > b_g - a_g:\n",
      "        f, a_f, b_f, g, a_g, b_g = g, a_g, b_g, f, a_f, b_f\n",
      "    y = sympy.Dummy('y')\n",
      "    i = sympy.integrate(f.subs(x, y) * g.subs(x, x-y), y)\n",
      "    return [\n",
      "        (i.subs(y, x-a_g) - i.subs(y, a_f), a_f+a_g, b_f+a_g),\n",
      "        (i.subs(y, b_f) - i.subs(y, a_f), b_f+a_g, a_f+b_g),\n",
      "        (i.subs(y, b_f) - i.subs(y, x-b_g), a_f+b_g, b_f+b_g) ]\n",
      "\n",
      "# Two \"flat\" functions, uniform centered PDFs\n",
      "F=(sympify(0.5), -1, 1)\n",
      "G=(sympify(0.05), -10, 10)\n",
      "convolute_onepiece(sympy.abc.x, F, G)"
     ],
     "language": "python",
     "metadata": {},
     "outputs": [
      {
       "latex": [
        "$$\\begin{bmatrix}\\begin{pmatrix}0.025 x + 0.275, & -11, & -9\\end{pmatrix}, & \\begin{pmatrix}0.05, & -9, & 9\\end{pmatrix}, & \\begin{pmatrix}- 0.025 x + 0.275, & 9, & 11\\end{pmatrix}\\end{bmatrix}$$"
       ],
       "metadata": {},
       "output_type": "pyout",
       "png": "[encoded data removed]",
       "prompt_number": 59,
       "text": [
        "[(0.025\u22c5x + 0.275, -11, -9), (0.05, -9, 9), (-0.025\u22c5x + 0.275, 9, 11)]"
       ]
      }
     ],
     "prompt_number": 59
    },
    {
     "cell_type": "markdown",
     "metadata": {},
     "source": [
      "from https://github.com/fperez/sympy/blob/master/sympy/solvers/tests/test_pde.py"
     ]
    },
    {
     "cell_type": "code",
     "collapsed": false,
     "input": [
      "from sympy import (Derivative as D, Eq, exp, sin, Function, Symbol, symbols, cos, log)"
     ],
     "language": "python",
     "metadata": {},
     "outputs": [],
     "prompt_number": 60
    },
    {
     "cell_type": "code",
     "collapsed": false,
     "input": [
      "x, y, z, t = symbols(\"x,y,z,t\")\n",
      "c = Symbol(\"C\", real=True)\n",
      "Phi = Function('Phi')\n",
      "F, R, T, X, Y, Z, u = map(Function, 'FRTXYZu')\n",
      "r, theta, z = symbols('r,theta,z')\n",
      "\n",
      "# Something simple :)\n",
      "eq = Eq(D(F(x, y, z), x) + D(F(x, y, z), y) + D(F(x, y, z), z))\n",
      "eq"
     ],
     "language": "python",
     "metadata": {},
     "outputs": [
      {
       "latex": [
        "$$\\frac{\\partial}{\\partial x} F{\\left (x,y,z \\right )} + \\frac{\\partial}{\\partial y} F{\\left (x,y,z \\right )} + \\frac{\\partial}{\\partial z} F{\\left (x,y,z \\right )} = 0$$"
       ],
       "metadata": {},
       "output_type": "pyout",
       "png": "[encoded data removed]",
       "prompt_number": 61,
       "text": [
        "\u2202                \u2202                \u2202                 \n",
        "\u2500\u2500(F(x, y, z)) + \u2500\u2500(F(x, y, z)) + \u2500\u2500(F(x, y, z)) = 0\n",
        "\u2202x               \u2202y               \u2202z                "
       ]
      }
     ],
     "prompt_number": 61
    },
    {
     "cell_type": "code",
     "collapsed": false,
     "input": [
      "pde_separate_mul(eq, F(x, y, z), [Y(y), u(x, z)])"
     ],
     "language": "python",
     "metadata": {},
     "outputs": [
      {
       "latex": [
        "$$\\begin{bmatrix}\\frac{\\frac{d}{d y} Y{\\left (y \\right )}}{Y{\\left (y \\right )}}, & - \\frac{\\frac{\\partial}{\\partial x} u{\\left (x,z \\right )}}{u{\\left (x,z \\right )}} - \\frac{\\frac{\\partial}{\\partial z} u{\\left (x,z \\right )}}{u{\\left (x,z \\right )}}\\end{bmatrix}$$"
       ],
       "metadata": {},
       "output_type": "pyout",
       "png": "[encoded data removed]",
       "prompt_number": 62,
       "text": [
        "\u23a1d           \u2202             \u2202          \u23a4\n",
        "\u23a2\u2500\u2500(Y(y))    \u2500\u2500(u(x, z))   \u2500\u2500(u(x, z))\u23a5\n",
        "\u23a2dy          \u2202x            \u2202z         \u23a5\n",
        "\u23a2\u2500\u2500\u2500\u2500\u2500\u2500\u2500\u2500, - \u2500\u2500\u2500\u2500\u2500\u2500\u2500\u2500\u2500\u2500\u2500 - \u2500\u2500\u2500\u2500\u2500\u2500\u2500\u2500\u2500\u2500\u2500\u23a5\n",
        "\u23a3  Y(y)        u(x, z)       u(x, z)  \u23a6"
       ]
      }
     ],
     "prompt_number": 62
    },
    {
     "cell_type": "code",
     "collapsed": false,
     "input": [
      "pde_separate_mul(eq, F(x, y, z), [X(x), Y(y), Z(z)])"
     ],
     "language": "python",
     "metadata": {},
     "outputs": [
      {
       "latex": [
        "$$\\begin{bmatrix}\\frac{\\frac{d}{d x} X{\\left (x \\right )}}{X{\\left (x \\right )}}, & - \\frac{\\frac{d}{d z} Z{\\left (z \\right )}}{Z{\\left (z \\right )}} - \\frac{\\frac{d}{d y} Y{\\left (y \\right )}}{Y{\\left (y \\right )}}\\end{bmatrix}$$"
       ],
       "metadata": {},
       "output_type": "pyout",
       "png": "[encoded data removed]",
       "prompt_number": 63,
       "text": [
        "\u23a1d           d          d       \u23a4\n",
        "\u23a2\u2500\u2500(X(x))    \u2500\u2500(Z(z))   \u2500\u2500(Y(y))\u23a5\n",
        "\u23a2dx          dz         dy      \u23a5\n",
        "\u23a2\u2500\u2500\u2500\u2500\u2500\u2500\u2500\u2500, - \u2500\u2500\u2500\u2500\u2500\u2500\u2500\u2500 - \u2500\u2500\u2500\u2500\u2500\u2500\u2500\u2500\u23a5\n",
        "\u23a3  X(x)        Z(z)       Y(y)  \u23a6"
       ]
      }
     ],
     "prompt_number": 63
    },
    {
     "cell_type": "code",
     "collapsed": false,
     "input": [
      "# wave equation\n",
      "wave = Eq(D(u(x, t), t, t), c**2*D(u(x, t), x, x))\n",
      "wave"
     ],
     "language": "python",
     "metadata": {},
     "outputs": [
      {
       "latex": [
        "$$\\frac{\\partial^{2}}{\\partial t^{2}}  u{\\left (x,t \\right )} = C^{2} \\frac{\\partial^{2}}{\\partial x^{2}}  u{\\left (x,t \\right )}$$"
       ],
       "metadata": {},
       "output_type": "pyout",
       "png": "[encoded data removed]",
       "prompt_number": 64,
       "text": [
        "  2                 2         \n",
        " \u2202              2  \u2202          \n",
        "\u2500\u2500\u2500(u(x, t)) = C \u22c5\u2500\u2500\u2500(u(x, t))\n",
        "  2                 2         \n",
        "\u2202t                \u2202x          "
       ]
      }
     ],
     "prompt_number": 64
    },
    {
     "cell_type": "code",
     "collapsed": false,
     "input": [
      "res = pde_separate_mul(wave, u(x, t), [X(x), T(t)])\n",
      "res"
     ],
     "language": "python",
     "metadata": {},
     "outputs": [
      {
       "latex": [
        "$$\\begin{bmatrix}\\frac{\\frac{d^{2}}{d x^{2}}  X{\\left (x \\right )}}{X{\\left (x \\right )}}, & \\frac{\\frac{d^{2}}{d t^{2}}  T{\\left (t \\right )}}{C^{2} T{\\left (t \\right )}}\\end{bmatrix}$$"
       ],
       "metadata": {},
       "output_type": "pyout",
       "png": "[encoded data removed]",
       "prompt_number": 65,
       "text": [
        "\u23a1  2          2      \u23a4\n",
        "\u23a2 d          d       \u23a5\n",
        "\u23a2\u2500\u2500\u2500(X(x))  \u2500\u2500\u2500(T(t))\u23a5\n",
        "\u23a2  2          2      \u23a5\n",
        "\u23a2dx         dt       \u23a5\n",
        "\u23a2\u2500\u2500\u2500\u2500\u2500\u2500\u2500\u2500\u2500, \u2500\u2500\u2500\u2500\u2500\u2500\u2500\u2500\u2500\u23a5\n",
        "\u23a2   X(x)      2      \u23a5\n",
        "\u23a3            C \u22c5T(t) \u23a6"
       ]
      }
     ],
     "prompt_number": 65
    },
    {
     "cell_type": "code",
     "collapsed": false,
     "input": [
      "# Laplace equation in cylindrical coords\n",
      "eq = Eq(1/r * D(Phi(r, theta, z), r) + D(Phi(r, theta, z), r, 2) +\n",
      "        1/r**2 * D(Phi(r, theta, z), theta, 2) + D(Phi(r, theta, z), z, 2))\n",
      "eq"
     ],
     "language": "python",
     "metadata": {},
     "outputs": [
      {
       "latex": [
        "$$\\frac{\\partial^{2}}{\\partial r^{2}}  \\Phi{\\left (r,\\theta,z \\right )} + \\frac{\\partial^{2}}{\\partial z^{2}}  \\Phi{\\left (r,\\theta,z \\right )} + \\frac{1}{r} \\frac{\\partial}{\\partial r} \\Phi{\\left (r,\\theta,z \\right )} + \\frac{1}{r^{2}} \\frac{\\partial^{2}}{\\partial \\theta^{2}}  \\Phi{\\left (r,\\theta,z \\right )} = 0$$"
       ],
       "metadata": {},
       "output_type": "pyout",
       "png": "[encoded data removed]",
       "prompt_number": 66,
       "text": [
        "                                                       2                \n",
        "                                                      \u2202                 \n",
        "                                    \u2202                \u2500\u2500\u2500(\u03a6(r, \u03b8, z))    \n",
        "  2                 2               \u2500\u2500(\u03a6(r, \u03b8, z))     2                \n",
        " \u2202                 \u2202                \u2202r               \u2202\u03b8                 \n",
        "\u2500\u2500\u2500(\u03a6(r, \u03b8, z)) + \u2500\u2500\u2500(\u03a6(r, \u03b8, z)) + \u2500\u2500\u2500\u2500\u2500\u2500\u2500\u2500\u2500\u2500\u2500\u2500\u2500\u2500 + \u2500\u2500\u2500\u2500\u2500\u2500\u2500\u2500\u2500\u2500\u2500\u2500\u2500\u2500\u2500 = 0\n",
        "  2                 2                     r                  2          \n",
        "\u2202r                \u2202z                                        r           "
       ]
      }
     ],
     "prompt_number": 66
    },
    {
     "cell_type": "code",
     "collapsed": false,
     "input": [
      "# Separate z\n",
      "res = pde_separate_mul(eq, Phi(r, theta, z), [Z(z), u(theta, r)])\n",
      "res"
     ],
     "language": "python",
     "metadata": {},
     "outputs": [
      {
       "latex": [
        "$$\\begin{bmatrix}\\frac{\\frac{d^{2}}{d z^{2}}  Z{\\left (z \\right )}}{Z{\\left (z \\right )}}, & - \\frac{\\frac{\\partial^{2}}{\\partial r^{2}}  u{\\left (\\theta,r \\right )}}{u{\\left (\\theta,r \\right )}} - \\frac{\\frac{\\partial}{\\partial r} u{\\left (\\theta,r \\right )}}{r u{\\left (\\theta,r \\right )}} - \\frac{\\frac{\\partial^{2}}{\\partial \\theta^{2}}  u{\\left (\\theta,r \\right )}}{r^{2} u{\\left (\\theta,r \\right )}}\\end{bmatrix}$$"
       ],
       "metadata": {},
       "output_type": "pyout",
       "png": "[encoded data removed]",
       "prompt_number": 67,
       "text": [
        "\u23a1  2            2                            2         \u23a4\n",
        "\u23a2 d            \u2202                            \u2202          \u23a5\n",
        "\u23a2\u2500\u2500\u2500(Z(z))    \u2500\u2500\u2500(u(\u03b8, r))   \u2202             \u2500\u2500\u2500(u(\u03b8, r))\u23a5\n",
        "\u23a2  2            2            \u2500\u2500(u(\u03b8, r))     2         \u23a5\n",
        "\u23a2dz           \u2202r             \u2202r            \u2202\u03b8          \u23a5\n",
        "\u23a2\u2500\u2500\u2500\u2500\u2500\u2500\u2500\u2500\u2500, - \u2500\u2500\u2500\u2500\u2500\u2500\u2500\u2500\u2500\u2500\u2500\u2500 - \u2500\u2500\u2500\u2500\u2500\u2500\u2500\u2500\u2500\u2500\u2500 - \u2500\u2500\u2500\u2500\u2500\u2500\u2500\u2500\u2500\u2500\u2500\u2500\u23a5\n",
        "\u23a2   Z(z)        u(\u03b8, r)       r\u22c5u(\u03b8, r)      2         \u23a5\n",
        "\u23a3                                           r \u22c5u(\u03b8, r) \u23a6"
       ]
      }
     ],
     "prompt_number": 67
    },
    {
     "cell_type": "code",
     "collapsed": false,
     "input": [
      "# Lets use the result to create a new equation...\n",
      "eq = Eq(res[1], c)\n",
      "eq"
     ],
     "language": "python",
     "metadata": {},
     "outputs": [
      {
       "latex": [
        "$$- \\frac{\\frac{\\partial^{2}}{\\partial r^{2}}  u{\\left (\\theta,r \\right )}}{u{\\left (\\theta,r \\right )}} - \\frac{\\frac{\\partial}{\\partial r} u{\\left (\\theta,r \\right )}}{r u{\\left (\\theta,r \\right )}} - \\frac{\\frac{\\partial^{2}}{\\partial \\theta^{2}}  u{\\left (\\theta,r \\right )}}{r^{2} u{\\left (\\theta,r \\right )}} = C$$"
       ],
       "metadata": {},
       "output_type": "pyout",
       "png": "[encoded data removed]",
       "prompt_number": 68,
       "text": [
        "    2                            2             \n",
        "   \u2202                            \u2202              \n",
        "  \u2500\u2500\u2500(u(\u03b8, r))   \u2202             \u2500\u2500\u2500(u(\u03b8, r))    \n",
        "    2            \u2500\u2500(u(\u03b8, r))     2             \n",
        "  \u2202r             \u2202r            \u2202\u03b8              \n",
        "- \u2500\u2500\u2500\u2500\u2500\u2500\u2500\u2500\u2500\u2500\u2500\u2500 - \u2500\u2500\u2500\u2500\u2500\u2500\u2500\u2500\u2500\u2500\u2500 - \u2500\u2500\u2500\u2500\u2500\u2500\u2500\u2500\u2500\u2500\u2500\u2500 = C\n",
        "    u(\u03b8, r)       r\u22c5u(\u03b8, r)      2             \n",
        "                                r \u22c5u(\u03b8, r)     "
       ]
      }
     ],
     "prompt_number": 68
    },
    {
     "cell_type": "code",
     "collapsed": false,
     "input": [
      "# ...and separate theta...\n",
      "res = pde_separate_mul(eq, u(theta, r), [T(theta), R(r)])\n",
      "res"
     ],
     "language": "python",
     "metadata": {},
     "outputs": [
      {
       "latex": [
        "$$\\begin{bmatrix}\\frac{\\frac{d^{2}}{d \\theta^{2}}  T{\\left (\\theta \\right )}}{T{\\left (\\theta \\right )}}, & - C r^{2} - \\frac{r^{2} \\frac{d^{2}}{d r^{2}}  R{\\left (r \\right )}}{R{\\left (r \\right )}} - \\frac{r \\frac{d}{d r} R{\\left (r \\right )}}{R{\\left (r \\right )}}\\end{bmatrix}$$"
       ],
       "metadata": {},
       "output_type": "pyout",
       "png": "[encoded data removed]",
       "prompt_number": 69,
       "text": [
        "\u23a1  2                      2                   \u23a4\n",
        "\u23a2 d                   2  d                    \u23a5\n",
        "\u23a2\u2500\u2500\u2500(T(\u03b8))           r \u22c5\u2500\u2500\u2500(R(r))     d       \u23a5\n",
        "\u23a2  2                      2         r\u22c5\u2500\u2500(R(r))\u23a5\n",
        "\u23a2d\u03b8              2      dr            dr      \u23a5\n",
        "\u23a2\u2500\u2500\u2500\u2500\u2500\u2500\u2500\u2500\u2500, - C\u22c5r  - \u2500\u2500\u2500\u2500\u2500\u2500\u2500\u2500\u2500\u2500\u2500\u2500 - \u2500\u2500\u2500\u2500\u2500\u2500\u2500\u2500\u2500\u2500\u23a5\n",
        "\u23a3   T(\u03b8)                 R(r)          R(r)   \u23a6"
       ]
      }
     ],
     "prompt_number": 69
    },
    {
     "cell_type": "code",
     "collapsed": false,
     "input": [
      "# ...or r...\n",
      "res = pde_separate_mul(eq, u(theta, r), [R(r), T(theta)])\n",
      "res"
     ],
     "language": "python",
     "metadata": {},
     "outputs": [
      {
       "latex": [
        "$$\\begin{bmatrix}C r^{2} + \\frac{r^{2} \\frac{d^{2}}{d r^{2}}  R{\\left (r \\right )}}{R{\\left (r \\right )}} + \\frac{r \\frac{d}{d r} R{\\left (r \\right )}}{R{\\left (r \\right )}}, & - \\frac{\\frac{d^{2}}{d \\theta^{2}}  T{\\left (\\theta \\right )}}{T{\\left (\\theta \\right )}}\\end{bmatrix}$$"
       ],
       "metadata": {},
       "output_type": "pyout",
       "png": "[encoded data removed]",
       "prompt_number": 70,
       "text": [
        "\u23a1            2                        2       \u23a4\n",
        "\u23a2        2  d                        d        \u23a5\n",
        "\u23a2       r \u22c5\u2500\u2500\u2500(R(r))     d         -\u2500\u2500\u2500(T(\u03b8)) \u23a5\n",
        "\u23a2            2         r\u22c5\u2500\u2500(R(r))     2       \u23a5\n",
        "\u23a2   2      dr            dr         d\u03b8        \u23a5\n",
        "\u23a2C\u22c5r  + \u2500\u2500\u2500\u2500\u2500\u2500\u2500\u2500\u2500\u2500\u2500\u2500 + \u2500\u2500\u2500\u2500\u2500\u2500\u2500\u2500\u2500\u2500, \u2500\u2500\u2500\u2500\u2500\u2500\u2500\u2500\u2500\u2500\u2500\u23a5\n",
        "\u23a3           R(r)          R(r)         T(\u03b8)   \u23a6"
       ]
      }
     ],
     "prompt_number": 70
    }
   ],
   "metadata": {}
  }
 ]
}