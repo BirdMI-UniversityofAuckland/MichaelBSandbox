{
 "metadata": {
  "name": ""
 },
 "nbformat": 3,
 "nbformat_minor": 0,
 "worksheets": [
  {
   "cells": [
    {
     "cell_type": "markdown",
     "metadata": {},
     "source": [
      "Just some random stuff from the interwebs ..."
     ]
    },
    {
     "cell_type": "code",
     "collapsed": false,
     "input": [
      "import sympy\n",
      "from sympy.galgebra.ga import *\n",
      "sympy.init_printing()\n",
      "Format(ipy=True)\n",
      "def MVlatex(mv, *args) :\n",
      "    mv.base_to_blade()\n",
      "    return '$$'+str(mv).replace(r'\\W', r'\\wedge').replace(r'\\bm', r'\\boldsymbol').replace(r'\\lp',r'\\left(').replace(r'\\rp',r'\\right)')+'$$'\n",
      "MV._repr_latex_ = MVlatex"
     ],
     "language": "python",
     "metadata": {},
     "outputs": [],
     "prompt_number": 1
    },
    {
     "cell_type": "code",
     "collapsed": false,
     "input": [
      "metric = '1 0 0, 0 1 0, 0 0 1'\n",
      "gamma_x, gamma_y, gamma_z = MV.setup('gamma_x gamma_y gamma_z', metric)\n",
      "gamma_x ^ gamma_y"
     ],
     "language": "python",
     "metadata": {},
     "outputs": [
      {
       "latex": [
        "$$\\boldsymbol{\\gamma_{x}\\wedge \\gamma_{y}}$$"
       ],
       "metadata": {},
       "output_type": "pyout",
       "prompt_number": 2,
       "text": [
        "<sympy.galgebra.ga.MV at 0x7f4511d0cbd0>"
       ]
      }
     ],
     "prompt_number": 2
    },
    {
     "cell_type": "code",
     "collapsed": false,
     "input": [
      "3 * gamma_x * gamma_y / 2 + (gamma_z ^ gamma_x)"
     ],
     "language": "python",
     "metadata": {},
     "outputs": [
      {
       "latex": [
        "$$\\frac{3}{2}\\boldsymbol{\\gamma_{x}\\wedge \\gamma_{y}}-\\boldsymbol{\\gamma_{x}\\wedge \\gamma_{z}}$$"
       ],
       "metadata": {},
       "output_type": "pyout",
       "prompt_number": 3,
       "text": [
        "<sympy.galgebra.ga.MV at 0x7f45296637d0>"
       ]
      }
     ],
     "prompt_number": 3
    },
    {
     "cell_type": "code",
     "collapsed": false,
     "input": [
      "a, b, c, d, e = MV.setup('a b c d e')"
     ],
     "language": "python",
     "metadata": {},
     "outputs": [],
     "prompt_number": 4
    },
    {
     "cell_type": "code",
     "collapsed": false,
     "input": [
      "e|(a^b)"
     ],
     "language": "python",
     "metadata": {},
     "outputs": [
      {
       "latex": [
        "$$- \\left( b\\cdot e\\right) \\boldsymbol{a}+\\left( a\\cdot e\\right) \\boldsymbol{b}$$"
       ],
       "metadata": {},
       "output_type": "pyout",
       "prompt_number": 5,
       "text": [
        "<sympy.galgebra.ga.MV at 0x7f44ffba35d0>"
       ]
      }
     ],
     "prompt_number": 5
    },
    {
     "cell_type": "code",
     "collapsed": false,
     "input": [
      "a|b^c"
     ],
     "language": "python",
     "metadata": {},
     "outputs": [
      {
       "latex": [
        "$$- \\left( a\\cdot c\\right) \\boldsymbol{b}+\\left( a\\cdot b\\right) \\boldsymbol{c}$$"
       ],
       "metadata": {},
       "output_type": "pyout",
       "prompt_number": 6,
       "text": [
        "<sympy.galgebra.ga.MV at 0x7f44ffb96d90>"
       ]
      }
     ],
     "prompt_number": 6
    },
    {
     "cell_type": "code",
     "collapsed": false,
     "input": [
      "a|b^c^d"
     ],
     "language": "python",
     "metadata": {},
     "outputs": [
      {
       "latex": [
        "$$\\left( a\\cdot d\\right) \\boldsymbol{b\\wedge c}- \\left( a\\cdot c\\right) \\boldsymbol{b\\wedge d}+\\left( a\\cdot b\\right) \\boldsymbol{c\\wedge d}$$"
       ],
       "metadata": {},
       "output_type": "pyout",
       "prompt_number": 7,
       "text": [
        "<sympy.galgebra.ga.MV at 0x7f44ffb76450>"
       ]
      }
     ],
     "prompt_number": 7
    },
    {
     "cell_type": "code",
     "collapsed": false,
     "input": [
      "a|b^c^d^e"
     ],
     "language": "python",
     "metadata": {},
     "outputs": [
      {
       "latex": [
        "$$- \\left( a\\cdot e\\right) \\boldsymbol{b\\wedge c\\wedge d}+\\left( a\\cdot d\\right) \\boldsymbol{b\\wedge c\\wedge e}- \\left( a\\cdot c\\right) \\boldsymbol{b\\wedge d\\wedge e}+\\left( a\\cdot b\\right) \\boldsymbol{c\\wedge d\\wedge e}$$"
       ],
       "metadata": {},
       "output_type": "pyout",
       "prompt_number": 8,
       "text": [
        "<sympy.galgebra.ga.MV at 0x7f44ffb3a890>"
       ]
      }
     ],
     "prompt_number": 8
    },
    {
     "cell_type": "code",
     "collapsed": false,
     "input": [],
     "language": "python",
     "metadata": {},
     "outputs": [],
     "prompt_number": 8
    }
   ],
   "metadata": {}
  }
 ]
}