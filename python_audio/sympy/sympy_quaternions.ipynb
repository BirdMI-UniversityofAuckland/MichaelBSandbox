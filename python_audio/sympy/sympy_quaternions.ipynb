{
 "metadata": {
  "name": ""
 },
 "nbformat": 3,
 "nbformat_minor": 0,
 "worksheets": [
  {
   "cells": [
    {
     "cell_type": "code",
     "collapsed": false,
     "input": [
      "from sympy import *\n",
      "init_printing()"
     ],
     "language": "python",
     "metadata": {},
     "outputs": [],
     "prompt_number": 1
    },
    {
     "cell_type": "code",
     "collapsed": false,
     "input": [
      "a, b, c, w, x, y, z = symbols(\"a, b, c, w, x, y, z\")"
     ],
     "language": "python",
     "metadata": {},
     "outputs": [],
     "prompt_number": 2
    },
    {
     "cell_type": "markdown",
     "metadata": {},
     "source": [
      "a few amateurish experiments based on the paper \"Teaching Quaternions is not Complex\" by J. McDonald (http://dx.doi.org/10.1111/j.1467-8659.2010.01756.x)"
     ]
    },
    {
     "cell_type": "code",
     "collapsed": false,
     "input": [
      "A = Matrix([[a, 0], [0, a]])\n",
      "A"
     ],
     "language": "python",
     "metadata": {},
     "outputs": [
      {
       "latex": [
        "$$\\left[\\begin{matrix}a & 0\\\\0 & a\\end{matrix}\\right]$$"
       ],
       "metadata": {},
       "output_type": "pyout",
       "png": "[encoded data removed]",
       "prompt_number": 3,
       "text": [
        "\u23a1a  0\u23a4\n",
        "\u23a2    \u23a5\n",
        "\u23a30  a\u23a6"
       ]
      }
     ],
     "prompt_number": 3
    },
    {
     "cell_type": "code",
     "collapsed": false,
     "input": [
      "B = Matrix([[b, 0], [0, b]])\n",
      "B"
     ],
     "language": "python",
     "metadata": {},
     "outputs": [
      {
       "latex": [
        "$$\\left[\\begin{matrix}b & 0\\\\0 & b\\end{matrix}\\right]$$"
       ],
       "metadata": {},
       "output_type": "pyout",
       "png": "[encoded data removed]",
       "prompt_number": 4,
       "text": [
        "\u23a1b  0\u23a4\n",
        "\u23a2    \u23a5\n",
        "\u23a30  b\u23a6"
       ]
      }
     ],
     "prompt_number": 4
    },
    {
     "cell_type": "code",
     "collapsed": false,
     "input": [
      "A + B"
     ],
     "language": "python",
     "metadata": {},
     "outputs": [
      {
       "latex": [
        "$$\\left[\\begin{matrix}a + b & 0\\\\0 & a + b\\end{matrix}\\right]$$"
       ],
       "metadata": {},
       "output_type": "pyout",
       "png": "[encoded data removed]",
       "prompt_number": 5,
       "text": [
        "\u23a1a + b    0  \u23a4\n",
        "\u23a2            \u23a5\n",
        "\u23a3  0    a + b\u23a6"
       ]
      }
     ],
     "prompt_number": 5
    },
    {
     "cell_type": "code",
     "collapsed": false,
     "input": [
      "A - B"
     ],
     "language": "python",
     "metadata": {},
     "outputs": [
      {
       "latex": [
        "$$\\left[\\begin{matrix}a - b & 0\\\\0 & a - b\\end{matrix}\\right]$$"
       ],
       "metadata": {},
       "output_type": "pyout",
       "png": "[encoded data removed]",
       "prompt_number": 6,
       "text": [
        "\u23a1a - b    0  \u23a4\n",
        "\u23a2            \u23a5\n",
        "\u23a3  0    a - b\u23a6"
       ]
      }
     ],
     "prompt_number": 6
    },
    {
     "cell_type": "code",
     "collapsed": false,
     "input": [
      "A * B"
     ],
     "language": "python",
     "metadata": {},
     "outputs": [
      {
       "latex": [
        "$$\\left[\\begin{matrix}a b & 0\\\\0 & a b\\end{matrix}\\right]$$"
       ],
       "metadata": {},
       "output_type": "pyout",
       "png": "[encoded data removed]",
       "prompt_number": 7,
       "text": [
        "\u23a1a\u22c5b   0 \u23a4\n",
        "\u23a2        \u23a5\n",
        "\u23a3 0   a\u22c5b\u23a6"
       ]
      }
     ],
     "prompt_number": 7
    },
    {
     "cell_type": "code",
     "collapsed": false,
     "input": [
      "# TODO: division?"
     ],
     "language": "python",
     "metadata": {},
     "outputs": [],
     "prompt_number": 8
    },
    {
     "cell_type": "code",
     "collapsed": false,
     "input": [
      "A**2"
     ],
     "language": "python",
     "metadata": {},
     "outputs": [
      {
       "latex": [
        "$$\\left[\\begin{matrix}a^{2} & 0\\\\0 & a^{2}\\end{matrix}\\right]$$"
       ],
       "metadata": {},
       "output_type": "pyout",
       "png": "[encoded data removed]",
       "prompt_number": 9,
       "text": [
        "\u23a1 2    \u23a4\n",
        "\u23a2a   0 \u23a5\n",
        "\u23a2      \u23a5\n",
        "\u23a2     2\u23a5\n",
        "\u23a30   a \u23a6"
       ]
      }
     ],
     "prompt_number": 9
    },
    {
     "cell_type": "code",
     "collapsed": false,
     "input": [
      "A.inv()"
     ],
     "language": "python",
     "metadata": {},
     "outputs": [
      {
       "latex": [
        "$$\\left[\\begin{matrix}\\frac{1}{a} & 0\\\\0 & \\frac{1}{a}\\end{matrix}\\right]$$"
       ],
       "metadata": {},
       "output_type": "pyout",
       "png": "[encoded data removed]",
       "prompt_number": 10,
       "text": [
        "\u23a11   \u23a4\n",
        "\u23a2\u2500  0\u23a5\n",
        "\u23a2a   \u23a5\n",
        "\u23a2    \u23a5\n",
        "\u23a2   1\u23a5\n",
        "\u23a20  \u2500\u23a5\n",
        "\u23a3   a\u23a6"
       ]
      }
     ],
     "prompt_number": 10
    },
    {
     "cell_type": "code",
     "collapsed": false,
     "input": [
      "A.det()"
     ],
     "language": "python",
     "metadata": {},
     "outputs": [
      {
       "latex": [
        "$$a^{2}$$"
       ],
       "metadata": {},
       "output_type": "pyout",
       "png": "[encoded data removed]",
       "prompt_number": 11,
       "text": [
        " 2\n",
        "a "
       ]
      }
     ],
     "prompt_number": 11
    },
    {
     "cell_type": "code",
     "collapsed": false,
     "input": [
      "re = Matrix([[1, 0], [0, 1]])\n",
      "im = Matrix([[0, -1], [1, 0]])"
     ],
     "language": "python",
     "metadata": {},
     "outputs": [],
     "prompt_number": 12
    },
    {
     "cell_type": "code",
     "collapsed": false,
     "input": [
      "im**2"
     ],
     "language": "python",
     "metadata": {},
     "outputs": [
      {
       "latex": [
        "$$\\left[\\begin{matrix}-1 & 0\\\\0 & -1\\end{matrix}\\right]$$"
       ],
       "metadata": {},
       "output_type": "pyout",
       "png": "[encoded data removed]",
       "prompt_number": 13,
       "text": [
        "\u23a1-1  0 \u23a4\n",
        "\u23a2      \u23a5\n",
        "\u23a30   -1\u23a6"
       ]
      }
     ],
     "prompt_number": 13
    },
    {
     "cell_type": "code",
     "collapsed": false,
     "input": [],
     "language": "python",
     "metadata": {},
     "outputs": [],
     "prompt_number": 13
    },
    {
     "cell_type": "code",
     "collapsed": false,
     "input": [
      "a * re + b * im"
     ],
     "language": "python",
     "metadata": {},
     "outputs": [
      {
       "latex": [
        "$$\\left[\\begin{matrix}a & - b\\\\b & a\\end{matrix}\\right]$$"
       ],
       "metadata": {},
       "output_type": "pyout",
       "png": "[encoded data removed]",
       "prompt_number": 14,
       "text": [
        "\u23a1a  -b\u23a4\n",
        "\u23a2     \u23a5\n",
        "\u23a3b  a \u23a6"
       ]
      }
     ],
     "prompt_number": 14
    },
    {
     "cell_type": "code",
     "collapsed": false,
     "input": [
      "theta = symbols(\"theta\")\n",
      "theta"
     ],
     "language": "python",
     "metadata": {},
     "outputs": [
      {
       "latex": [
        "$$\\theta$$"
       ],
       "metadata": {},
       "output_type": "pyout",
       "png": "[encoded data removed]",
       "prompt_number": 15,
       "text": [
        "\u03b8"
       ]
      }
     ],
     "prompt_number": 15
    },
    {
     "cell_type": "code",
     "collapsed": false,
     "input": [
      "n = cos(theta) * re + sin(theta) * im\n",
      "n"
     ],
     "language": "python",
     "metadata": {},
     "outputs": [
      {
       "latex": [
        "$$\\left[\\begin{matrix}\\cos{\\left (\\theta \\right )} & - \\sin{\\left (\\theta \\right )}\\\\\\sin{\\left (\\theta \\right )} & \\cos{\\left (\\theta \\right )}\\end{matrix}\\right]$$"
       ],
       "metadata": {},
       "output_type": "pyout",
       "png": "[encoded data removed]",
       "prompt_number": 16,
       "text": [
        "\u23a1cos(\u03b8)  -sin(\u03b8)\u23a4\n",
        "\u23a2               \u23a5\n",
        "\u23a3sin(\u03b8)  cos(\u03b8) \u23a6"
       ]
      }
     ],
     "prompt_number": 16
    },
    {
     "cell_type": "code",
     "collapsed": false,
     "input": [
      "n * Matrix([x, y])"
     ],
     "language": "python",
     "metadata": {},
     "outputs": [
      {
       "latex": [
        "$$\\left[\\begin{matrix}x \\cos{\\left (\\theta \\right )} - y \\sin{\\left (\\theta \\right )}\\\\x \\sin{\\left (\\theta \\right )} + y \\cos{\\left (\\theta \\right )}\\end{matrix}\\right]$$"
       ],
       "metadata": {},
       "output_type": "pyout",
       "png": "[encoded data removed]",
       "prompt_number": 17,
       "text": [
        "\u23a1x\u22c5cos(\u03b8) - y\u22c5sin(\u03b8)\u23a4\n",
        "\u23a2                   \u23a5\n",
        "\u23a3x\u22c5sin(\u03b8) + y\u22c5cos(\u03b8)\u23a6"
       ]
      }
     ],
     "prompt_number": 17
    },
    {
     "cell_type": "code",
     "collapsed": false,
     "input": [
      "n * (x * re + y * im)"
     ],
     "language": "python",
     "metadata": {},
     "outputs": [
      {
       "latex": [
        "$$\\left[\\begin{matrix}x \\cos{\\left (\\theta \\right )} - y \\sin{\\left (\\theta \\right )} & - x \\sin{\\left (\\theta \\right )} - y \\cos{\\left (\\theta \\right )}\\\\x \\sin{\\left (\\theta \\right )} + y \\cos{\\left (\\theta \\right )} & x \\cos{\\left (\\theta \\right )} - y \\sin{\\left (\\theta \\right )}\\end{matrix}\\right]$$"
       ],
       "metadata": {},
       "output_type": "pyout",
       "png": "[encoded data removed]",
       "prompt_number": 18,
       "text": [
        "\u23a1x\u22c5cos(\u03b8) - y\u22c5sin(\u03b8)  -x\u22c5sin(\u03b8) - y\u22c5cos(\u03b8)\u23a4\n",
        "\u23a2                                         \u23a5\n",
        "\u23a3x\u22c5sin(\u03b8) + y\u22c5cos(\u03b8)  x\u22c5cos(\u03b8) - y\u22c5sin(\u03b8) \u23a6"
       ]
      }
     ],
     "prompt_number": 18
    },
    {
     "cell_type": "markdown",
     "metadata": {},
     "source": [
      "quaternions ..."
     ]
    },
    {
     "cell_type": "code",
     "collapsed": false,
     "input": [
      "qw = eye(4)\n",
      "qw"
     ],
     "language": "python",
     "metadata": {},
     "outputs": [
      {
       "latex": [
        "$$\\left[\\begin{matrix}1 & 0 & 0 & 0\\\\0 & 1 & 0 & 0\\\\0 & 0 & 1 & 0\\\\0 & 0 & 0 & 1\\end{matrix}\\right]$$"
       ],
       "metadata": {},
       "output_type": "pyout",
       "png": "[encoded data removed]",
       "prompt_number": 19,
       "text": [
        "\u23a11  0  0  0\u23a4\n",
        "\u23a2          \u23a5\n",
        "\u23a20  1  0  0\u23a5\n",
        "\u23a2          \u23a5\n",
        "\u23a20  0  1  0\u23a5\n",
        "\u23a2          \u23a5\n",
        "\u23a30  0  0  1\u23a6"
       ]
      }
     ],
     "prompt_number": 19
    },
    {
     "cell_type": "code",
     "collapsed": false,
     "input": [
      "qi = zeros(4, 4)\n",
      "qi[0, 3] = qi[2, 1] = 1\n",
      "qi[1, 2] = qi[3, 0] = -1\n",
      "qi"
     ],
     "language": "python",
     "metadata": {},
     "outputs": [
      {
       "latex": [
        "$$\\left[\\begin{matrix}0 & 0 & 0 & 1\\\\0 & 0 & -1 & 0\\\\0 & 1 & 0 & 0\\\\-1 & 0 & 0 & 0\\end{matrix}\\right]$$"
       ],
       "metadata": {},
       "output_type": "pyout",
       "png": "[encoded data removed]",
       "prompt_number": 20,
       "text": [
        "\u23a10   0  0   1\u23a4\n",
        "\u23a2            \u23a5\n",
        "\u23a20   0  -1  0\u23a5\n",
        "\u23a2            \u23a5\n",
        "\u23a20   1  0   0\u23a5\n",
        "\u23a2            \u23a5\n",
        "\u23a3-1  0  0   0\u23a6"
       ]
      }
     ],
     "prompt_number": 20
    },
    {
     "cell_type": "code",
     "collapsed": false,
     "input": [
      "qj = zeros(4, 4)\n",
      "qj[0, 2] = qj[1, 3] = 1\n",
      "qj[2, 0] = qj[3, 1] = -1\n",
      "qj"
     ],
     "language": "python",
     "metadata": {},
     "outputs": [
      {
       "latex": [
        "$$\\left[\\begin{matrix}0 & 0 & 1 & 0\\\\0 & 0 & 0 & 1\\\\-1 & 0 & 0 & 0\\\\0 & -1 & 0 & 0\\end{matrix}\\right]$$"
       ],
       "metadata": {},
       "output_type": "pyout",
       "png": "[encoded data removed]",
       "prompt_number": 21,
       "text": [
        "\u23a10   0   1  0\u23a4\n",
        "\u23a2            \u23a5\n",
        "\u23a20   0   0  1\u23a5\n",
        "\u23a2            \u23a5\n",
        "\u23a2-1  0   0  0\u23a5\n",
        "\u23a2            \u23a5\n",
        "\u23a30   -1  0  0\u23a6"
       ]
      }
     ],
     "prompt_number": 21
    },
    {
     "cell_type": "code",
     "collapsed": false,
     "input": [
      "qk = zeros(4, 4)\n",
      "qk[1, 0] = qk[2, 3] = 1\n",
      "qk[0, 1] = qk[3, 2] = -1\n",
      "qk"
     ],
     "language": "python",
     "metadata": {},
     "outputs": [
      {
       "latex": [
        "$$\\left[\\begin{matrix}0 & -1 & 0 & 0\\\\1 & 0 & 0 & 0\\\\0 & 0 & 0 & 1\\\\0 & 0 & -1 & 0\\end{matrix}\\right]$$"
       ],
       "metadata": {},
       "output_type": "pyout",
       "png": "[encoded data removed]",
       "prompt_number": 22,
       "text": [
        "\u23a10  -1  0   0\u23a4\n",
        "\u23a2            \u23a5\n",
        "\u23a21  0   0   0\u23a5\n",
        "\u23a2            \u23a5\n",
        "\u23a20  0   0   1\u23a5\n",
        "\u23a2            \u23a5\n",
        "\u23a30  0   -1  0\u23a6"
       ]
      }
     ],
     "prompt_number": 22
    },
    {
     "cell_type": "code",
     "collapsed": false,
     "input": [
      "qi**2"
     ],
     "language": "python",
     "metadata": {},
     "outputs": [
      {
       "latex": [
        "$$\\left[\\begin{matrix}-1 & 0 & 0 & 0\\\\0 & -1 & 0 & 0\\\\0 & 0 & -1 & 0\\\\0 & 0 & 0 & -1\\end{matrix}\\right]$$"
       ],
       "metadata": {},
       "output_type": "pyout",
       "png": "[encoded data removed]",
       "prompt_number": 23,
       "text": [
        "\u23a1-1  0   0   0 \u23a4\n",
        "\u23a2              \u23a5\n",
        "\u23a20   -1  0   0 \u23a5\n",
        "\u23a2              \u23a5\n",
        "\u23a20   0   -1  0 \u23a5\n",
        "\u23a2              \u23a5\n",
        "\u23a30   0   0   -1\u23a6"
       ]
      }
     ],
     "prompt_number": 23
    },
    {
     "cell_type": "code",
     "collapsed": false,
     "input": [
      "qj**2"
     ],
     "language": "python",
     "metadata": {},
     "outputs": [
      {
       "latex": [
        "$$\\left[\\begin{matrix}-1 & 0 & 0 & 0\\\\0 & -1 & 0 & 0\\\\0 & 0 & -1 & 0\\\\0 & 0 & 0 & -1\\end{matrix}\\right]$$"
       ],
       "metadata": {},
       "output_type": "pyout",
       "png": "[encoded data removed]",
       "prompt_number": 24,
       "text": [
        "\u23a1-1  0   0   0 \u23a4\n",
        "\u23a2              \u23a5\n",
        "\u23a20   -1  0   0 \u23a5\n",
        "\u23a2              \u23a5\n",
        "\u23a20   0   -1  0 \u23a5\n",
        "\u23a2              \u23a5\n",
        "\u23a30   0   0   -1\u23a6"
       ]
      }
     ],
     "prompt_number": 24
    },
    {
     "cell_type": "code",
     "collapsed": false,
     "input": [
      "qk**2"
     ],
     "language": "python",
     "metadata": {},
     "outputs": [
      {
       "latex": [
        "$$\\left[\\begin{matrix}-1 & 0 & 0 & 0\\\\0 & -1 & 0 & 0\\\\0 & 0 & -1 & 0\\\\0 & 0 & 0 & -1\\end{matrix}\\right]$$"
       ],
       "metadata": {},
       "output_type": "pyout",
       "png": "[encoded data removed]",
       "prompt_number": 25,
       "text": [
        "\u23a1-1  0   0   0 \u23a4\n",
        "\u23a2              \u23a5\n",
        "\u23a20   -1  0   0 \u23a5\n",
        "\u23a2              \u23a5\n",
        "\u23a20   0   -1  0 \u23a5\n",
        "\u23a2              \u23a5\n",
        "\u23a30   0   0   -1\u23a6"
       ]
      }
     ],
     "prompt_number": 25
    },
    {
     "cell_type": "code",
     "collapsed": false,
     "input": [
      "qi * qj == qk"
     ],
     "language": "python",
     "metadata": {},
     "outputs": [
      {
       "metadata": {},
       "output_type": "pyout",
       "prompt_number": 26,
       "text": [
        "True"
       ]
      }
     ],
     "prompt_number": 26
    },
    {
     "cell_type": "code",
     "collapsed": false,
     "input": [
      "qj * qk == qi"
     ],
     "language": "python",
     "metadata": {},
     "outputs": [
      {
       "metadata": {},
       "output_type": "pyout",
       "prompt_number": 27,
       "text": [
        "True"
       ]
      }
     ],
     "prompt_number": 27
    },
    {
     "cell_type": "code",
     "collapsed": false,
     "input": [
      "qk * qi == qj"
     ],
     "language": "python",
     "metadata": {},
     "outputs": [
      {
       "metadata": {},
       "output_type": "pyout",
       "prompt_number": 28,
       "text": [
        "True"
       ]
      }
     ],
     "prompt_number": 28
    },
    {
     "cell_type": "code",
     "collapsed": false,
     "input": [
      "qi**2 == qj**2 == qk**2 == -1 * qw"
     ],
     "language": "python",
     "metadata": {},
     "outputs": [
      {
       "metadata": {},
       "output_type": "pyout",
       "prompt_number": 29,
       "text": [
        "True"
       ]
      }
     ],
     "prompt_number": 29
    },
    {
     "cell_type": "code",
     "collapsed": false,
     "input": [
      "q = w * qw + x * qi + y * qj + z * qk\n",
      "q"
     ],
     "language": "python",
     "metadata": {},
     "outputs": [
      {
       "latex": [
        "$$\\left[\\begin{matrix}w & - z & y & x\\\\z & w & - x & y\\\\- y & x & w & z\\\\- x & - y & - z & w\\end{matrix}\\right]$$"
       ],
       "metadata": {},
       "output_type": "pyout",
       "png": "[encoded data removed]",
       "prompt_number": 30,
       "text": [
        "\u23a1w   -z  y   x\u23a4\n",
        "\u23a2             \u23a5\n",
        "\u23a2z   w   -x  y\u23a5\n",
        "\u23a2             \u23a5\n",
        "\u23a2-y  x   w   z\u23a5\n",
        "\u23a2             \u23a5\n",
        "\u23a3-x  -y  -z  w\u23a6"
       ]
      }
     ],
     "prompt_number": 30
    },
    {
     "cell_type": "code",
     "collapsed": false,
     "input": [
      "q_conj = w * qw - x * qi - y * qj - z * qk\n",
      "q_conj"
     ],
     "language": "python",
     "metadata": {},
     "outputs": [
      {
       "latex": [
        "$$\\left[\\begin{matrix}w & z & - y & - x\\\\- z & w & x & - y\\\\y & - x & w & - z\\\\x & y & z & w\\end{matrix}\\right]$$"
       ],
       "metadata": {},
       "output_type": "pyout",
       "png": "[encoded data removed]",
       "prompt_number": 31,
       "text": [
        "\u23a1w   z   -y  -x\u23a4\n",
        "\u23a2              \u23a5\n",
        "\u23a2-z  w   x   -y\u23a5\n",
        "\u23a2              \u23a5\n",
        "\u23a2y   -x  w   -z\u23a5\n",
        "\u23a2              \u23a5\n",
        "\u23a3x   y   z   w \u23a6"
       ]
      }
     ],
     "prompt_number": 31
    },
    {
     "cell_type": "code",
     "collapsed": false,
     "input": [
      "q.transpose() == q_conj"
     ],
     "language": "python",
     "metadata": {},
     "outputs": [
      {
       "metadata": {},
       "output_type": "pyout",
       "prompt_number": 32,
       "text": [
        "True"
       ]
      }
     ],
     "prompt_number": 32
    },
    {
     "cell_type": "code",
     "collapsed": false,
     "input": [],
     "language": "python",
     "metadata": {},
     "outputs": [],
     "prompt_number": 32
    }
   ],
   "metadata": {}
  }
 ]
}