{
 "metadata": {
  "name": "noise"
 },
 "nbformat": 3,
 "nbformat_minor": 0,
 "worksheets": [
  {
   "cells": [
    {
     "cell_type": "markdown",
     "metadata": {},
     "source": [
      "TODO!\n",
      "\n",
      "white noise, pink noise, spectrum, probability density, ...\n",
      "\n",
      "http://en.wikipedia.org/wiki/Colors_of_noise"
     ]
    },
    {
     "cell_type": "code",
     "collapsed": false,
     "input": [],
     "language": "python",
     "metadata": {},
     "outputs": []
    }
   ],
   "metadata": {}
  }
 ]
}