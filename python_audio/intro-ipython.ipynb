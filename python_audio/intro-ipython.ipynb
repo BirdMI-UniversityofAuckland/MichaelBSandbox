{
 "metadata": {
  "name": ""
 },
 "nbformat": 3,
 "nbformat_minor": 0,
 "worksheets": [
  {
   "cells": [
    {
     "cell_type": "heading",
     "level": 1,
     "metadata": {},
     "source": [
      "A Short Introduction to IPython"
     ]
    },
    {
     "cell_type": "markdown",
     "metadata": {},
     "source": [
      "[back to main page](https://github.com/mgeier/python-audio)\n",
      "\n",
      "interactive ...\n",
      "\n",
      "  - classic console\n",
      "  - qtconsole\n",
      "  - notebook\n",
      "\n",
      "Start like this:\n",
      "\n",
      "    ipython3\n",
      "\n",
      "or\n",
      "\n",
      "    ipython3 qtconsole\n",
      "\n",
      "or\n",
      "\n",
      "    ipython3 notebook\n",
      "\n",
      "http://ipython.org/notebook.html\n",
      "\n",
      "http://nbviewer.ipython.org/\n",
      "\n",
      "http://nbdiff.org/"
     ]
    },
    {
     "cell_type": "code",
     "collapsed": false,
     "input": [
      "?"
     ],
     "language": "python",
     "metadata": {},
     "outputs": [],
     "prompt_number": 1
    },
    {
     "cell_type": "code",
     "collapsed": false,
     "input": [
      "# magic functions\n",
      "%quickref"
     ],
     "language": "python",
     "metadata": {},
     "outputs": [],
     "prompt_number": 1
    },
    {
     "cell_type": "markdown",
     "metadata": {},
     "source": [
      "Text can be written in [Markdown](http://daringfireball.net/projects/markdown/).\n",
      "\n",
      "Support for $\\LaTeX$ equations: $a^2+b^2=c^2$ (using [MathJax](http://www.mathjax.org/))."
     ]
    },
    {
     "cell_type": "markdown",
     "metadata": {},
     "source": [
      "`qtconsole` can also be started from a running notebook session:"
     ]
    },
    {
     "cell_type": "code",
     "collapsed": false,
     "input": [
      "%qtconsole"
     ],
     "language": "python",
     "metadata": {},
     "outputs": [],
     "prompt_number": 2
    },
    {
     "cell_type": "code",
     "collapsed": false,
     "input": [
      "help?"
     ],
     "language": "python",
     "metadata": {},
     "outputs": [],
     "prompt_number": 3
    },
    {
     "cell_type": "code",
     "collapsed": false,
     "input": [
      "help??"
     ],
     "language": "python",
     "metadata": {},
     "outputs": [],
     "prompt_number": 4
    },
    {
     "cell_type": "code",
     "collapsed": false,
     "input": [
      "%pylab inline"
     ],
     "language": "python",
     "metadata": {},
     "outputs": [
      {
       "output_type": "stream",
       "stream": "stdout",
       "text": [
        "Populating the interactive namespace from numpy and matplotlib\n"
       ]
      }
     ],
     "prompt_number": 5
    },
    {
     "cell_type": "code",
     "collapsed": false,
     "input": [
      "# TODO: TikZ backend?"
     ],
     "language": "python",
     "metadata": {},
     "outputs": [],
     "prompt_number": 6
    },
    {
     "cell_type": "code",
     "collapsed": false,
     "input": [
      "%timeit?\n",
      "\n",
      "# or:\n",
      "#%run -t"
     ],
     "language": "python",
     "metadata": {},
     "outputs": [],
     "prompt_number": 7
    },
    {
     "cell_type": "code",
     "collapsed": true,
     "input": [
      "%debug?\n",
      "\n",
      "# or:\n",
      "#%run -d"
     ],
     "language": "python",
     "metadata": {},
     "outputs": [],
     "prompt_number": 8
    },
    {
     "cell_type": "code",
     "collapsed": false,
     "input": [
      "%who?"
     ],
     "language": "python",
     "metadata": {},
     "outputs": [],
     "prompt_number": 9
    },
    {
     "cell_type": "markdown",
     "metadata": {},
     "source": [
      "You can also do crazy things like running shell commands. You can even pass Python names and use the shell output again in Python:"
     ]
    },
    {
     "cell_type": "code",
     "collapsed": false,
     "input": [
      "extension = 'ipynb'\n",
      "a =! ls *.$extension\n",
      "a"
     ],
     "language": "python",
     "metadata": {},
     "outputs": [
      {
       "metadata": {},
       "output_type": "pyout",
       "prompt_number": 10,
       "text": [
        "['intro-ipython.ipynb',\n",
        " 'intro-numpy.ipynb',\n",
        " 'intro-python.ipynb',\n",
        " 'simple-signals.ipynb']"
       ]
      }
     ],
     "prompt_number": 10
    },
    {
     "cell_type": "code",
     "collapsed": false,
     "input": [
      "d =! ddate\n",
      "print(d.n)"
     ],
     "language": "python",
     "metadata": {},
     "outputs": [
      {
       "output_type": "stream",
       "stream": "stdout",
       "text": [
        "Today is Prickle-Prickle, the 11th day of Discord in the YOLD 3180\n"
       ]
      }
     ],
     "prompt_number": 11
    },
    {
     "cell_type": "code",
     "collapsed": false,
     "input": [
      "%%bash\n",
      "tmp=$(tempfile).txt\n",
      "echo some text > $tmp\n",
      "echo more text >> $tmp\n",
      "sed -i s/text/nonsense/ $tmp\n",
      "cat $tmp\n",
      "rm $tmp"
     ],
     "language": "python",
     "metadata": {},
     "outputs": [
      {
       "output_type": "stream",
       "stream": "stdout",
       "text": [
        "some nonsense\n",
        "more nonsense\n"
       ]
      }
     ],
     "prompt_number": 12
    },
    {
     "cell_type": "markdown",
     "metadata": {},
     "source": [
      "... but it doesn't stop there, you can also run Ruby, Octave or R code!\n",
      "\n",
      "This is of course beyond the scope of this little tutorial, if you are interested, have a look at these commands:\n",
      "\n",
      "    %%ruby\n",
      "    %load_ext octavemagic\n",
      "    %%octave\n",
      "    %load_ext rmagic\n",
      "    %%R\n",
      "\n",
      "See also [Running Scripts from IPython](http://nbviewer.ipython.org/github/ipython/ipython/blob/master/examples/notebooks/Script%20Magics.ipynb)\n",
      "\n",
      "[Example notebook using Octave](http://nbviewer.ipython.org/github/ipython/ipython/blob/master/examples/notebooks/Octave%20Magic.ipynb)\n",
      "\n",
      "[Example notebook using R](http://nbviewer.ipython.org/github/ipython/ipython/blob/master/examples/notebooks/R%20Magics.ipynb)\n",
      "\n",
      "[Example notebook using Julia](http://nbviewer.ipython.org/github/JuliaLang/IJulia.jl/blob/master/python/doc/JuliaMagic.ipynb)"
     ]
    },
    {
     "cell_type": "markdown",
     "metadata": {},
     "source": [
      "Show all available \"magic\" functions:"
     ]
    },
    {
     "cell_type": "code",
     "collapsed": false,
     "input": [
      "%lsmagic"
     ],
     "language": "python",
     "metadata": {},
     "outputs": [
      {
       "json": [
        "{\"cell\": {\"svg\": \"DisplayMagics\", \"html\": \"DisplayMagics\", \"pypy\": \"Other\", \"python\": \"Other\", \"ruby\": \"Other\", \"bash\": \"Other\", \"latex\": \"DisplayMagics\", \"!\": \"OSMagics\", \"capture\": \"ExecutionMagics\", \"timeit\": \"ExecutionMagics\", \"sh\": \"Other\", \"file\": \"Other\", \"script\": \"ScriptMagics\", \"SVG\": \"Other\", \"javascript\": \"DisplayMagics\", \"perl\": \"Other\", \"HTML\": \"Other\", \"writefile\": \"OSMagics\", \"prun\": \"ExecutionMagics\", \"debug\": \"ExecutionMagics\", \"system\": \"OSMagics\", \"python3\": \"Other\", \"sx\": \"OSMagics\", \"time\": \"ExecutionMagics\"}, \"line\": {\"profile\": \"BasicMagics\", \"pwd\": \"OSMagics\", \"load_ext\": \"ExtensionMagics\", \"ed\": \"Other\", \"clear\": \"KernelMagics\", \"xmode\": \"BasicMagics\", \"colors\": \"BasicMagics\", \"matplotlib\": \"PylabMagics\", \"automagic\": \"AutoMagics\", \"install_default_config\": \"DeprecatedMagics\", \"notebook\": \"BasicMagics\", \"logstart\": \"LoggingMagics\", \"quickref\": \"BasicMagics\", \"alias\": \"OSMagics\", \"reload_ext\": \"ExtensionMagics\", \"pushd\": \"OSMagics\", \"unalias\": \"OSMagics\", \"guiref\": \"Other\", \"xdel\": \"NamespaceMagics\", \"pdb\": \"ExecutionMagics\", \"install_ext\": \"ExtensionMagics\", \"man\": \"KernelMagics\", \"reset\": \"NamespaceMagics\", \"pinfo\": \"NamespaceMagics\", \"pdef\": \"NamespaceMagics\", \"precision\": \"BasicMagics\", \"more\": \"KernelMagics\", \"lsmagic\": \"BasicMagics\", \"bookmark\": \"OSMagics\", \"hist\": \"Other\", \"dirs\": \"OSMagics\", \"dhist\": \"OSMagics\", \"macro\": \"ExecutionMagics\", \"rep\": \"Other\", \"pylab\": \"PylabMagics\", \"tb\": \"ExecutionMagics\", \"recall\": \"HistoryMagics\", \"install_profiles\": \"DeprecatedMagics\", \"alias_magic\": \"BasicMagics\", \"debug\": \"ExecutionMagics\", \"rehashx\": \"OSMagics\", \"logon\": \"LoggingMagics\", \"whos\": \"NamespaceMagics\", \"pycat\": \"OSMagics\", \"magic\": \"BasicMagics\", \"reset_selective\": \"NamespaceMagics\", \"env\": \"OSMagics\", \"pfile\": \"NamespaceMagics\", \"edit\": \"KernelMagics\", \"save\": \"CodeMagics\", \"pastebin\": \"CodeMagics\", \"logoff\": \"LoggingMagics\", \"run\": \"ExecutionMagics\", \"popd\": \"OSMagics\", \"cd\": \"OSMagics\", \"timeit\": \"ExecutionMagics\", \"logstate\": \"LoggingMagics\", \"pinfo2\": \"NamespaceMagics\", \"loadpy\": \"CodeMagics\", \"page\": \"BasicMagics\", \"who_ls\": \"NamespaceMagics\", \"unload_ext\": \"ExtensionMagics\", \"load\": \"CodeMagics\", \"connect_info\": \"KernelMagics\", \"pprint\": \"BasicMagics\", \"config\": \"ConfigMagics\", \"system\": \"OSMagics\", \"pdoc\": \"NamespaceMagics\", \"less\": \"KernelMagics\", \"sx\": \"OSMagics\", \"qtconsole\": \"KernelMagics\", \"rerun\": \"HistoryMagics\", \"sc\": \"OSMagics\", \"killbgscripts\": \"ScriptMagics\", \"who\": \"NamespaceMagics\", \"autosave\": \"KernelMagics\", \"doctest_mode\": \"KernelMagics\", \"store\": \"StoreMagics\", \"logstop\": \"LoggingMagics\", \"psource\": \"NamespaceMagics\", \"prun\": \"ExecutionMagics\", \"autocall\": \"AutoMagics\", \"gui\": \"BasicMagics\", \"history\": \"HistoryMagics\", \"psearch\": \"NamespaceMagics\", \"time\": \"ExecutionMagics\"}}"
       ],
       "metadata": {},
       "output_type": "pyout",
       "prompt_number": 13,
       "text": [
        "Available line magics:\n",
        "%alias  %alias_magic  %autocall  %automagic  %autosave  %bookmark  %cd  %clear  %colors  %config  %connect_info  %debug  %dhist  %dirs  %doctest_mode  %ed  %edit  %env  %gui  %guiref  %hist  %history  %install_default_config  %install_ext  %install_profiles  %killbgscripts  %less  %load  %load_ext  %loadpy  %logoff  %logon  %logstart  %logstate  %logstop  %lsmagic  %macro  %magic  %man  %matplotlib  %more  %notebook  %page  %pastebin  %pdb  %pdef  %pdoc  %pfile  %pinfo  %pinfo2  %popd  %pprint  %precision  %profile  %prun  %psearch  %psource  %pushd  %pwd  %pycat  %pylab  %qtconsole  %quickref  %recall  %rehashx  %reload_ext  %rep  %rerun  %reset  %reset_selective  %run  %save  %sc  %store  %sx  %system  %tb  %time  %timeit  %unalias  %unload_ext  %who  %who_ls  %whos  %xdel  %xmode\n",
        "\n",
        "Available cell magics:\n",
        "%%!  %%HTML  %%SVG  %%bash  %%capture  %%debug  %%file  %%html  %%javascript  %%latex  %%perl  %%prun  %%pypy  %%python  %%python3  %%ruby  %%script  %%sh  %%svg  %%sx  %%system  %%time  %%timeit  %%writefile\n",
        "\n",
        "Automagic is ON, % prefix IS NOT needed for line magics."
       ]
      }
     ],
     "prompt_number": 13
    },
    {
     "cell_type": "markdown",
     "metadata": {},
     "source": [
      "IPython can display [all kinds of media](http://nbviewer.ipython.org/github/ipython/ipython/blob/master/examples/notebooks/Part%205%20-%20Rich%20Display%20System.ipynb) and it can even handle the [HTML5 `<audio>` tag](http://nbviewer.ipython.org/github/Carreau/posts/blob/master/07-the-sound-of-hydrogen.ipynb)."
     ]
    },
    {
     "cell_type": "heading",
     "level": 2,
     "metadata": {},
     "source": [
      "Links"
     ]
    },
    {
     "cell_type": "markdown",
     "metadata": {},
     "source": [
      "http://nbviewer.ipython.org/github/rasbt/python_reference/blob/master/tutorials/awesome_things_ipynb.ipynb"
     ]
    }
   ],
   "metadata": {}
  }
 ]
}