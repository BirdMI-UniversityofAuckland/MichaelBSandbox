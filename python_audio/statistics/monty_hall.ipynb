{
 "metadata": {
  "name": ""
 },
 "nbformat": 3,
 "nbformat_minor": 0,
 "worksheets": [
  {
   "cells": [
    {
     "cell_type": "markdown",
     "metadata": {},
     "source": [
      "The *Monty Hall Problem* is totally unintuitive.\n",
      "\n",
      "To illustrate the problem, I tried to create a program that just repeats the thing many times, showing that in the end the theoretical solution is indeed also happening \"in practice\".\n",
      "\n",
      "But as soon as I was writing this, it got so obvious that it's not even necessary to run the program anymore.\n",
      "\n",
      "* If you guessed right and you switch, you loose, if you don't switch you win.\n",
      "* If you guessed wrong and you switch, you win, if you don't switch you loose.\n",
      "\n",
      "Guessing wrong is twice as likely ($\\frac{2}{3}$ vs. $\\frac{1}{3}$), so if you switch, you will also win twice as likely."
     ]
    },
    {
     "cell_type": "code",
     "collapsed": false,
     "input": [
      "from random import randint\n",
      "\n",
      "def monty(N):\n",
      "    # win1 .. number of wins when not switching\n",
      "    # win2 .. number of wins when switching\n",
      "    win1 = win2 = 0\n",
      "    for i in range(N):\n",
      "        price = randint(1, 3)\n",
      "        guess = randint(1, 3)\n",
      "        if price == guess:\n",
      "            # we win if we don't switch\n",
      "            win1 += 1\n",
      "        else:\n",
      "            # we win if we switch\n",
      "            win2 += 1\n",
      "    print(\"repetitions: {}, wins w/o switching: {} %, wins with switching: {} %\".format(N, win1/N*100, win2/N*100))"
     ],
     "language": "python",
     "metadata": {},
     "outputs": [],
     "prompt_number": 1
    },
    {
     "cell_type": "code",
     "collapsed": false,
     "input": [
      "monty(100000)"
     ],
     "language": "python",
     "metadata": {},
     "outputs": [
      {
       "output_type": "stream",
       "stream": "stdout",
       "text": [
        "repetitions: 100000, wins w/o switching: 33.326 %, wins with switching: 66.674 %\n"
       ]
      }
     ],
     "prompt_number": 2
    }
   ],
   "metadata": {}
  }
 ]
}