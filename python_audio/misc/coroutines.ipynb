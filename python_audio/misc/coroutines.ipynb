{
 "metadata": {
  "name": ""
 },
 "nbformat": 3,
 "nbformat_minor": 0,
 "worksheets": [
  {
   "cells": [
    {
     "cell_type": "heading",
     "level": 1,
     "metadata": {},
     "source": [
      "Using Coroutines in Python"
     ]
    },
    {
     "cell_type": "markdown",
     "metadata": {},
     "source": [
      "I cannot really explain coroutines, other than they are generator objects with `send()` and `close()` methods. If you need a better explanation, please search the interwebs for it.\n",
      "\n",
      "I'll just give a simple example here, nothing more."
     ]
    },
    {
     "cell_type": "heading",
     "level": 2,
     "metadata": {},
     "source": [
      "A Serial Connection"
     ]
    },
    {
     "cell_type": "markdown",
     "metadata": {},
     "source": [
      "Let's assume we have some kind of connection, e.g. a serial connection to some hardware device.\n",
      "Let's further assume this connection is a context manager which has `read()` and `write()` methods to read and write bytes to/from the device. This could be `serial.Serial` from [PySerial](http://pyserial.sf.net/), for example.\n",
      "\n",
      "Simplified, this could look like:"
     ]
    },
    {
     "cell_type": "code",
     "collapsed": false,
     "input": [
      "class Connection:\n",
      "    def __enter__(self):\n",
      "        print(\"opening connection\")\n",
      "        return self\n",
      "    def __exit__(self, *args):\n",
      "        print(\"closing connection\")\n",
      "    def read(self):\n",
      "        print(\"reading response\")\n",
      "        return 'data'\n",
      "    def write(self, msg):\n",
      "        print(\"sending\", msg)"
     ],
     "language": "python",
     "metadata": {},
     "outputs": [],
     "prompt_number": 1
    },
    {
     "cell_type": "markdown",
     "metadata": {},
     "source": [
      "Of course, this doesn't really do anything, it only *prints* the actions which a proper connection object would *do*."
     ]
    },
    {
     "cell_type": "markdown",
     "metadata": {},
     "source": [
      "Let's further assume that we send a message to the device and the device sends some response. Some time later, it sends another response, probably stating that some action has completed.\n",
      "\n",
      "This is how we could use the `Connection` class:"
     ]
    },
    {
     "cell_type": "code",
     "collapsed": false,
     "input": [
      "with Connection() as c:\n",
      "    c.write(\"please gimme some data!\")\n",
      "    response1 = c.read()\n",
      "    response2 = c.read()"
     ],
     "language": "python",
     "metadata": {},
     "outputs": [
      {
       "output_type": "stream",
       "stream": "stdout",
       "text": [
        "opening connection\n",
        "sending please gimme some data!\n",
        "reading response\n",
        "reading response\n",
        "closing connection\n"
       ]
      }
     ],
     "prompt_number": 2
    },
    {
     "cell_type": "markdown",
     "metadata": {},
     "source": [
      "As you see, we sent a message and got two responses. The connection was automatically opened and closed thanks to the context manager in the `with` statement."
     ]
    },
    {
     "cell_type": "markdown",
     "metadata": {},
     "source": [
      "Now, let's assume that we want to post-process all data after receiving.\n",
      "No problem:"
     ]
    },
    {
     "cell_type": "code",
     "collapsed": false,
     "input": [
      "with Connection() as c:\n",
      "    c.write(\"please gimme some data!\")\n",
      "    response1 = \"processed \" + c.read()\n",
      "    print(\"received:\", response1)\n",
      "    response2 = \"processed \" + c.read()\n",
      "    # it may take some time until read() returns\n",
      "    print(\"received:\", response2)"
     ],
     "language": "python",
     "metadata": {},
     "outputs": [
      {
       "output_type": "stream",
       "stream": "stdout",
       "text": [
        "opening connection\n",
        "sending please gimme some data!\n",
        "reading response\n",
        "received: processed data\n",
        "reading response\n",
        "received: processed data\n",
        "closing connection\n"
       ]
      }
     ],
     "prompt_number": 3
    },
    {
     "cell_type": "heading",
     "level": 2,
     "metadata": {},
     "source": [
      "The Problem"
     ]
    },
    {
     "cell_type": "markdown",
     "metadata": {},
     "source": [
      "So far, so good. Now what if we want to put this into a function to be re-used by somebody else?\n",
      "\n",
      "We could try this:"
     ]
    },
    {
     "cell_type": "code",
     "collapsed": false,
     "input": [
      "def get_data(msg):\n",
      "    with Connection() as c:\n",
      "        c.write(msg)\n",
      "        response1 = \"processed \" + c.read()\n",
      "        response2 = \"processed \" + c.read()\n",
      "    return response1, response2"
     ],
     "language": "python",
     "metadata": {},
     "outputs": [],
     "prompt_number": 4
    },
    {
     "cell_type": "code",
     "collapsed": false,
     "input": [
      "get_data(\"please gimme some data!\")"
     ],
     "language": "python",
     "metadata": {},
     "outputs": [
      {
       "output_type": "stream",
       "stream": "stdout",
       "text": [
        "opening connection\n",
        "sending please gimme some data!\n",
        "reading response\n",
        "reading response\n",
        "closing connection\n"
       ]
      },
      {
       "metadata": {},
       "output_type": "pyout",
       "prompt_number": 5,
       "text": [
        "('processed data', 'processed data')"
       ]
      }
     ],
     "prompt_number": 5
    },
    {
     "cell_type": "markdown",
     "metadata": {},
     "source": [
      "But that's not what we want!\n",
      "\n",
      "We would like to have `response1` first, and then, after some time we want to have `response2`.\n",
      "Probably we also want to decide if we even want to wait for `response2` based on the content of `response1`."
     ]
    },
    {
     "cell_type": "heading",
     "level": 2,
     "metadata": {},
     "source": [
      "Solution 1"
     ]
    },
    {
     "cell_type": "markdown",
     "metadata": {},
     "source": [
      "We could make a class. It could derive from `Connection` add the post-processing step to the extended `read()` method after calling the original `Connection.read()`.\n",
      "\n",
      "But classes are quite boring.\n",
      "\n",
      "So I'll leave that as an exercise for the interested reader and continue with ..."
     ]
    },
    {
     "cell_type": "heading",
     "level": 2,
     "metadata": {},
     "source": [
      "Solution 2"
     ]
    },
    {
     "cell_type": "markdown",
     "metadata": {},
     "source": [
      "Let's try it with a generator:"
     ]
    },
    {
     "cell_type": "code",
     "collapsed": false,
     "input": [
      "def get_data_generator(msg):\n",
      "    with Connection() as c:\n",
      "        c.write(msg)\n",
      "        yield \"processed \" + c.read()\n",
      "        yield \"processed \" + c.read()"
     ],
     "language": "python",
     "metadata": {},
     "outputs": [],
     "prompt_number": 6
    },
    {
     "cell_type": "markdown",
     "metadata": {},
     "source": [
      "That looks useful! Instead of `return`ing both values in the end, we `yield` the first one and then, after the second `read()` returns, we yield the second value.\n",
      "\n",
      "How do we use this?\n",
      "\n",
      "First we call the *generator function* to get a *generator object*:"
     ]
    },
    {
     "cell_type": "code",
     "collapsed": false,
     "input": [
      "gen = get_data_generator(\"please gimme some data!\")"
     ],
     "language": "python",
     "metadata": {},
     "outputs": [],
     "prompt_number": 7
    },
    {
     "cell_type": "markdown",
     "metadata": {},
     "source": [
      "Note that the connection wasn't opened yet!\n",
      "\n",
      "Let's get the first response:"
     ]
    },
    {
     "cell_type": "code",
     "collapsed": false,
     "input": [
      "next(gen)"
     ],
     "language": "python",
     "metadata": {},
     "outputs": [
      {
       "output_type": "stream",
       "stream": "stdout",
       "text": [
        "opening connection\n",
        "sending please gimme some data!\n",
        "reading response\n"
       ]
      },
      {
       "metadata": {},
       "output_type": "pyout",
       "prompt_number": 8,
       "text": [
        "'processed data'"
       ]
      }
     ],
     "prompt_number": 8
    },
    {
     "cell_type": "markdown",
     "metadata": {},
     "source": [
      "As you see, now the message was sent and the first response was received. The connection is still open.\n",
      "\n",
      "Let's get the next response:"
     ]
    },
    {
     "cell_type": "code",
     "collapsed": false,
     "input": [
      "next(gen)"
     ],
     "language": "python",
     "metadata": {},
     "outputs": [
      {
       "output_type": "stream",
       "stream": "stdout",
       "text": [
        "reading response\n"
       ]
      },
      {
       "metadata": {},
       "output_type": "pyout",
       "prompt_number": 9,
       "text": [
        "'processed data'"
       ]
      }
     ],
     "prompt_number": 9
    },
    {
     "cell_type": "markdown",
     "metadata": {},
     "source": [
      "OK, that worked. But the connection is still open. Let's close the generator. This will also close the connection (because the control flow leaves the `with` statement)."
     ]
    },
    {
     "cell_type": "code",
     "collapsed": false,
     "input": [
      "gen.close()"
     ],
     "language": "python",
     "metadata": {},
     "outputs": [
      {
       "output_type": "stream",
       "stream": "stdout",
       "text": [
        "closing connection\n"
       ]
      }
     ],
     "prompt_number": 10
    },
    {
     "cell_type": "heading",
     "level": 2,
     "metadata": {},
     "source": [
      "Extending Solution 2 With A Coroutine"
     ]
    },
    {
     "cell_type": "markdown",
     "metadata": {},
     "source": [
      "What if we want this whole thing to be a bit more flexible?\n",
      "\n",
      "Let's say we don't want to get always two responses but arbitrary many?\n",
      "\n",
      "What if we want to send data not only in the beginning but also anywhere in between?\n",
      "\n",
      "That's where coroutines come into play!\n",
      "\n",
      "We can use the generator object as before to receive data, but we can use its ``send()`` method to also send data:"
     ]
    },
    {
     "cell_type": "code",
     "collapsed": false,
     "input": [
      "def get_data_coroutine():\n",
      "    response = None\n",
      "    with Connection() as c:\n",
      "        while True:\n",
      "            msg = yield response\n",
      "            if msg is None:\n",
      "                print(\"not sending anything\")\n",
      "            else:\n",
      "                c.write(msg)\n",
      "            response = \"processed \" + c.read()"
     ],
     "language": "python",
     "metadata": {},
     "outputs": [],
     "prompt_number": 11
    },
    {
     "cell_type": "markdown",
     "metadata": {},
     "source": [
      "Interesting. Now the `yield` is buried somewhere within the code and it isn't a *statement* anymore but suddenly we have a `yield` *expression*.\n",
      "\n",
      "This is how it works: the thing right of `yield` is what you get if you call `next(gen)` or `gen.send(\"something\")`, and on the left side of `yield` you get whatever was sent with `send()`.\n",
      "\n",
      "It looks a little strange in the beginning, but you'll get used to it ...\n",
      "\n",
      "How do we use this?\n",
      "\n",
      "Like before, we call the *generator function* to get a *generator object*, but this time we don't use the message argument (yet)."
     ]
    },
    {
     "cell_type": "code",
     "collapsed": false,
     "input": [
      "gen = get_data_coroutine()"
     ],
     "language": "python",
     "metadata": {},
     "outputs": [],
     "prompt_number": 12
    },
    {
     "cell_type": "markdown",
     "metadata": {},
     "source": [
      "Note, again, that the connection wasn't opened yet.\n",
      "\n",
      "Now there comes a peculiar thing with coroutines: you have to call `next()` once to move it to the first `yield` expression. This has to be done each time, right after creating the generator object."
     ]
    },
    {
     "cell_type": "code",
     "collapsed": false,
     "input": [
      "next(gen)"
     ],
     "language": "python",
     "metadata": {},
     "outputs": [
      {
       "output_type": "stream",
       "stream": "stdout",
       "text": [
        "opening connection\n"
       ]
      }
     ],
     "prompt_number": 13
    },
    {
     "cell_type": "markdown",
     "metadata": {},
     "source": [
      "Now we moved to the first yield expression. We're now already inside the `with` statement, so the connection is already open. From now on we can send stuff:"
     ]
    },
    {
     "cell_type": "code",
     "collapsed": false,
     "input": [
      "response1 = gen.send(\"please gimme some data!\")\n",
      "response1"
     ],
     "language": "python",
     "metadata": {},
     "outputs": [
      {
       "output_type": "stream",
       "stream": "stdout",
       "text": [
        "sending please gimme some data!\n",
        "reading response\n"
       ]
      },
      {
       "metadata": {},
       "output_type": "pyout",
       "prompt_number": 14,
       "text": [
        "'processed data'"
       ]
      }
     ],
     "prompt_number": 14
    },
    {
     "cell_type": "markdown",
     "metadata": {},
     "source": [
      "As return value of the `send()` method, we get our first piece of data.\n",
      "\n",
      "Now we can either send more stuff or just receive, whatever we like:"
     ]
    },
    {
     "cell_type": "code",
     "collapsed": false,
     "input": [
      "response2 = next(gen)\n",
      "response2"
     ],
     "language": "python",
     "metadata": {},
     "outputs": [
      {
       "output_type": "stream",
       "stream": "stdout",
       "text": [
        "not sending anything\n",
        "reading response\n"
       ]
      },
      {
       "metadata": {},
       "output_type": "pyout",
       "prompt_number": 15,
       "text": [
        "'processed data'"
       ]
      }
     ],
     "prompt_number": 15
    },
    {
     "cell_type": "code",
     "collapsed": false,
     "input": [
      "response3 = gen.send(None)  # this is the same as next(gen)\n",
      "response3"
     ],
     "language": "python",
     "metadata": {},
     "outputs": [
      {
       "output_type": "stream",
       "stream": "stdout",
       "text": [
        "not sending anything\n",
        "reading response\n"
       ]
      },
      {
       "metadata": {},
       "output_type": "pyout",
       "prompt_number": 16,
       "text": [
        "'processed data'"
       ]
      }
     ],
     "prompt_number": 16
    },
    {
     "cell_type": "code",
     "collapsed": false,
     "input": [
      "response4 = gen.send(\"gimme more data!\")\n",
      "response4"
     ],
     "language": "python",
     "metadata": {},
     "outputs": [
      {
       "output_type": "stream",
       "stream": "stdout",
       "text": [
        "sending gimme more data!\n",
        "reading response\n"
       ]
      },
      {
       "metadata": {},
       "output_type": "pyout",
       "prompt_number": 17,
       "text": [
        "'processed data'"
       ]
      }
     ],
     "prompt_number": 17
    },
    {
     "cell_type": "markdown",
     "metadata": {},
     "source": [
      "Once we have enough data, we just close the thing:"
     ]
    },
    {
     "cell_type": "code",
     "collapsed": false,
     "input": [
      "gen.close()"
     ],
     "language": "python",
     "metadata": {},
     "outputs": [
      {
       "output_type": "stream",
       "stream": "stdout",
       "text": [
        "closing connection\n"
       ]
      }
     ],
     "prompt_number": 18
    },
    {
     "cell_type": "heading",
     "level": 2,
     "metadata": {},
     "source": [
      "Getting rid of the initial `next()` call"
     ]
    },
    {
     "cell_type": "markdown",
     "metadata": {},
     "source": [
      "The first call to `next()` in the previous call was annoying. We can make this go away with a decorator that calls `next()` for us:"
     ]
    },
    {
     "cell_type": "code",
     "collapsed": false,
     "input": [
      "import functools\n",
      "\n",
      "def coroutine(func):\n",
      "    @functools.wraps(func)\n",
      "    def start(*args, **kwargs):\n",
      "        gen = func(*args, **kwargs)\n",
      "        next(gen)\n",
      "        return gen\n",
      "    return start"
     ],
     "language": "python",
     "metadata": {},
     "outputs": [],
     "prompt_number": 19
    },
    {
     "cell_type": "markdown",
     "metadata": {},
     "source": [
      "We can add this handy decorator on top of our original function definition:"
     ]
    },
    {
     "cell_type": "code",
     "collapsed": false,
     "input": [
      "@coroutine\n",
      "def get_data_coroutine():\n",
      "    response = None\n",
      "    with Connection() as c:\n",
      "        while True:\n",
      "            msg = yield response\n",
      "            if msg is None:\n",
      "                print(\"not sending anything\")\n",
      "            else:\n",
      "                c.write(msg)\n",
      "            response = \"processed \" + c.read()"
     ],
     "language": "python",
     "metadata": {},
     "outputs": [],
     "prompt_number": 20
    },
    {
     "cell_type": "markdown",
     "metadata": {},
     "source": [
      "Now the connection is opened when we call the generator object and we can directly start to send stuff:"
     ]
    },
    {
     "cell_type": "code",
     "collapsed": false,
     "input": [
      "cr = get_data_coroutine()"
     ],
     "language": "python",
     "metadata": {},
     "outputs": [
      {
       "output_type": "stream",
       "stream": "stdout",
       "text": [
        "opening connection\n"
       ]
      }
     ],
     "prompt_number": 21
    },
    {
     "cell_type": "code",
     "collapsed": false,
     "input": [
      "response1 = cr.send(\"please gimme some data!\")"
     ],
     "language": "python",
     "metadata": {},
     "outputs": [
      {
       "output_type": "stream",
       "stream": "stdout",
       "text": [
        "sending please gimme some data!\n",
        "reading response\n"
       ]
      }
     ],
     "prompt_number": 22
    },
    {
     "cell_type": "markdown",
     "metadata": {},
     "source": [
      "... and so on and so on ..."
     ]
    },
    {
     "cell_type": "code",
     "collapsed": false,
     "input": [
      "cr.close()"
     ],
     "language": "python",
     "metadata": {},
     "outputs": [
      {
       "output_type": "stream",
       "stream": "stdout",
       "text": [
        "closing connection\n"
       ]
      }
     ],
     "prompt_number": 23
    },
    {
     "cell_type": "heading",
     "level": 2,
     "metadata": {},
     "source": [
      "Closing Automatically"
     ]
    },
    {
     "cell_type": "markdown",
     "metadata": {},
     "source": [
      "It's easy to forget to call `close()` on the coroutine and if an exception is raised somewhere, we might even be unable to call it at all.\n",
      "\n",
      "To make sure that `close()` is always called, we can wrap it into a context manager:"
     ]
    },
    {
     "cell_type": "code",
     "collapsed": false,
     "input": [
      "import contextlib\n",
      "\n",
      "with contextlib.closing(get_data_coroutine()) as cr:\n",
      "    response1 = cr.send(\"please gimme some data!\")\n",
      "    response2 = next(cr)\n",
      "    response3 = cr.send(\"a bit more, please!\")"
     ],
     "language": "python",
     "metadata": {},
     "outputs": [
      {
       "output_type": "stream",
       "stream": "stdout",
       "text": [
        "opening connection\n",
        "sending please gimme some data!\n",
        "reading response\n",
        "not sending anything\n",
        "reading response\n",
        "sending a bit more, please!\n",
        "reading response\n",
        "closing connection\n"
       ]
      }
     ],
     "prompt_number": 24
    },
    {
     "cell_type": "markdown",
     "metadata": {},
     "source": [
      "That's it. I'm just wondering why generator objects aren't context managers by default ..."
     ]
    },
    {
     "cell_type": "heading",
     "level": 2,
     "metadata": {},
     "source": [
      "Adding another coroutine"
     ]
    },
    {
     "cell_type": "markdown",
     "metadata": {},
     "source": [
      "A very useful property of coroutines is that they can be chained together. Let's make an new coroutine that takes another coroutine but changes all messages and responses to uppercase."
     ]
    },
    {
     "cell_type": "code",
     "collapsed": false,
     "input": [
      "@coroutine\n",
      "def shouting(other):\n",
      "    response = None\n",
      "    with contextlib.closing(other) as cr:\n",
      "        while True:\n",
      "            msg = yield response\n",
      "            if msg is not None:\n",
      "                msg = msg.upper()\n",
      "            response = cr.send(msg)\n",
      "            response = response.upper()"
     ],
     "language": "python",
     "metadata": {},
     "outputs": [],
     "prompt_number": 25
    },
    {
     "cell_type": "code",
     "collapsed": false,
     "input": [
      "cr = shouting(get_data_coroutine())"
     ],
     "language": "python",
     "metadata": {},
     "outputs": [
      {
       "output_type": "stream",
       "stream": "stdout",
       "text": [
        "opening connection\n"
       ]
      }
     ],
     "prompt_number": 26
    },
    {
     "cell_type": "code",
     "collapsed": false,
     "input": [
      "response1 = cr.send(\"please gimme some data!\")\n",
      "response1"
     ],
     "language": "python",
     "metadata": {},
     "outputs": [
      {
       "output_type": "stream",
       "stream": "stdout",
       "text": [
        "sending PLEASE GIMME SOME DATA!\n",
        "reading response\n"
       ]
      },
      {
       "metadata": {},
       "output_type": "pyout",
       "prompt_number": 27,
       "text": [
        "'PROCESSED DATA'"
       ]
      }
     ],
     "prompt_number": 27
    },
    {
     "cell_type": "code",
     "collapsed": false,
     "input": [
      "response2 = next(cr)\n",
      "response2"
     ],
     "language": "python",
     "metadata": {},
     "outputs": [
      {
       "output_type": "stream",
       "stream": "stdout",
       "text": [
        "not sending anything\n",
        "reading response\n"
       ]
      },
      {
       "metadata": {},
       "output_type": "pyout",
       "prompt_number": 28,
       "text": [
        "'PROCESSED DATA'"
       ]
      }
     ],
     "prompt_number": 28
    },
    {
     "cell_type": "code",
     "collapsed": false,
     "input": [
      "cr.close()"
     ],
     "language": "python",
     "metadata": {},
     "outputs": [
      {
       "output_type": "stream",
       "stream": "stdout",
       "text": [
        "closing connection\n"
       ]
      }
     ],
     "prompt_number": 29
    },
    {
     "cell_type": "markdown",
     "metadata": {},
     "source": [
      "That's it for now."
     ]
    }
   ],
   "metadata": {}
  }
 ]
}