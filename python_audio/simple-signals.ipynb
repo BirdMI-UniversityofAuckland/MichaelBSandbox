{
 "metadata": {
  "name": ""
 },
 "nbformat": 3,
 "nbformat_minor": 0,
 "worksheets": [
  {
   "cells": [
    {
     "cell_type": "heading",
     "level": 1,
     "metadata": {},
     "source": [
      "Generating Simple Audio Signals"
     ]
    },
    {
     "cell_type": "markdown",
     "metadata": {},
     "source": [
      "[back to main page](https://github.com/mgeier/python-audio)\n",
      "\n",
      "We create a simple sine wave as an introductory example using Python and NumPy.\n",
      "\n",
      "Let's start with some basic Python. We create three numbers and give each of them a name.\n",
      "\n",
      "> Sometimes these are called *variables*, but that is actually misleading.\n",
      "> Think about objects and names. An object is created (in our case a number) and we specify a name by which we want to access this object.\n",
      "\n"
     ]
    },
    {
     "cell_type": "code",
     "collapsed": false,
     "input": [
      "dur = 1.5  # duration in seconds\n",
      "freq = 440.  # frequency in Hertz\n",
      "fs = 44100  # sampling frequency in Hertz"
     ],
     "language": "python",
     "metadata": {},
     "outputs": [],
     "prompt_number": 1
    },
    {
     "cell_type": "markdown",
     "metadata": {},
     "source": [
      "Everything following a `#` sign is a comment.\n",
      "\n",
      "There is no output. If you want to see which object a certain name refers to, just type the name:"
     ]
    },
    {
     "cell_type": "code",
     "collapsed": false,
     "input": [
      "dur"
     ],
     "language": "python",
     "metadata": {},
     "outputs": [
      {
       "metadata": {},
       "output_type": "pyout",
       "prompt_number": 2,
       "text": [
        "1.5"
       ]
      }
     ],
     "prompt_number": 2
    },
    {
     "cell_type": "markdown",
     "metadata": {},
     "source": [
      "In Python, *everything* is an object. And every object has a *type*. Let's see ..."
     ]
    },
    {
     "cell_type": "code",
     "collapsed": false,
     "input": [
      "type(dur), type(freq), type(fs)"
     ],
     "language": "python",
     "metadata": {},
     "outputs": [
      {
       "metadata": {},
       "output_type": "pyout",
       "prompt_number": 3,
       "text": [
        "(builtins.float, builtins.float, builtins.int)"
       ]
      }
     ],
     "prompt_number": 3
    },
    {
     "cell_type": "markdown",
     "metadata": {},
     "source": [
      "Note that we didn't specify any types explicitly, we just got Python's default types. Numbers with a comma are by default of type `float`, values without comma are of type `int`.\n",
      "\n",
      "There are many more types in Python (strings, tuples, lists, dictionaries, ...), but let's ignore them for now.\n",
      "\n",
      "If you want an overview about all the objects you have defined up to now, use `%who` or its more verbose cousin `%whos`."
     ]
    },
    {
     "cell_type": "code",
     "collapsed": false,
     "input": [
      "%whos"
     ],
     "language": "python",
     "metadata": {},
     "outputs": [
      {
       "output_type": "stream",
       "stream": "stdout",
       "text": [
        "Variable   Type     Data/Info\n",
        "-----------------------------\n",
        "dur        float    1.5\n",
        "freq       float    440.0\n",
        "fs         int      44100\n"
       ]
      }
     ],
     "prompt_number": 4
    },
    {
     "cell_type": "markdown",
     "metadata": {},
     "source": [
      "Now, let's bring NumPy into the game. The canonical way to do that in a Python script is\n",
      "\n",
      "    import numpy as np\n",
      "\n",
      "Then, we have to prepend \"`np.`\" to all NumPy functions, types etc.\n",
      "However, if we are playing around in IPython, it may be easier if we import all NumPy names into the global namespace. This can be done with the *magic* command `%pylab`. This also imports MatPlotLib, and if we specify the `inline` argument, we can create inline plots (which we'll see in a moment)."
     ]
    },
    {
     "cell_type": "code",
     "collapsed": false,
     "input": [
      "%pylab inline"
     ],
     "language": "python",
     "metadata": {},
     "outputs": [
      {
       "output_type": "stream",
       "stream": "stdout",
       "text": [
        "Populating the interactive namespace from numpy and matplotlib\n"
       ]
      }
     ],
     "prompt_number": 5
    },
    {
     "cell_type": "markdown",
     "metadata": {},
     "source": [
      "Now let's create the most basic signal, a sine. This is kind of the \"Hello World!\" of signals.\n",
      "\n",
      "In order to create a sine tone, we need first a series of time instances to represent our sampling times. The distance between those instances is the *sampling interval* $\\tau = \\frac{1}{f_s}$, where $f_s$ is the *sampling frequency*.\n",
      "\n",
      "To create a series of regularly ascending (or descending) values, NumPy provides the function `arange()`. Let's use that."
     ]
    },
    {
     "cell_type": "code",
     "collapsed": false,
     "input": [
      "t = arange(0, dur, 1 / fs)\n",
      "t"
     ],
     "language": "python",
     "metadata": {},
     "outputs": [
      {
       "metadata": {},
       "output_type": "pyout",
       "prompt_number": 6,
       "text": [
        "array([  0.00000000e+00,   2.26757370e-05,   4.53514739e-05, ...,\n",
        "         1.49993197e+00,   1.49995465e+00,   1.49997732e+00])"
       ]
      }
     ],
     "prompt_number": 6
    },
    {
     "cell_type": "markdown",
     "metadata": {},
     "source": [
      "As you can see, this creates an array of numbers from 0 to just below the value specified in `dur`. These are a lot of numbers, so to avoid flooding us with heaps of useless output, IPython just shows the first and last few values. Very handy.\n",
      "\n",
      "> Note that in Python 2 and before, the division operator works a little differently then in Python 3. Here we assume we're using the latter, where the division of two `int`s returns a `float` value (and not an `int` with the truncated result!).\n",
      "> To make sure this also works as expected in Python 2, you can convert one operand to `float` before the division or use a special `import` statement:\n",
      ">\n",
      ">     1. / fs\n",
      ">\n",
      "> or\n",
      ">\n",
      ">     1 / float(fs)\n",
      "> or\n",
      ">\n",
      ">     from __future__ import division\n",
      ">     1 / fs\n",
      "\n",
      "Let's check the type of `t`."
     ]
    },
    {
     "cell_type": "code",
     "collapsed": false,
     "input": [
      "type(t)"
     ],
     "language": "python",
     "metadata": {},
     "outputs": [
      {
       "metadata": {},
       "output_type": "pyout",
       "prompt_number": 7,
       "text": [
        "numpy.ndarray"
       ]
      }
     ],
     "prompt_number": 7
    },
    {
     "cell_type": "markdown",
     "metadata": {},
     "source": [
      "The `ndarray` is the single most important type of NumPy. It can handle arrays with an arbitrary number of dimensions. All values stored in an `ndarray` have the same data type. This makes most operations on them faster then on Python's built-in `list`s.\n",
      "\n",
      "Let's get some information about our brand new array named `t`."
     ]
    },
    {
     "cell_type": "code",
     "collapsed": false,
     "input": [
      "t.dtype, t.size, t.ndim"
     ],
     "language": "python",
     "metadata": {},
     "outputs": [
      {
       "metadata": {},
       "output_type": "pyout",
       "prompt_number": 8,
       "text": [
        "(dtype('float64'), 66150, 1)"
       ]
      }
     ],
     "prompt_number": 8
    },
    {
     "cell_type": "markdown",
     "metadata": {},
     "source": [
      "By default, NumPy stores floating point numbers as `float64`, i.e. each number using 64 bits. This is sometimes called _double precision_. If you want _single precision_, you can use `float32`. The length of our array is stored in `t.size` and `t.ndim` shows how many dimensions the array has. This one has only one. Boring.\n",
      "\n",
      "Now that we have our time instances, we can compute the sine for each of them, according to the equation $x(t) = \\sin(\\omega t)$ with $\\omega = 2\\pi f$ and $f$ being the desired frequency of the resulting sine tone."
     ]
    },
    {
     "cell_type": "code",
     "collapsed": false,
     "input": [
      "sig = sin(2 * pi * freq * t)\n",
      "sig"
     ],
     "language": "python",
     "metadata": {},
     "outputs": [
      {
       "metadata": {},
       "output_type": "pyout",
       "prompt_number": 9,
       "text": [
        "array([ 0.        ,  0.06264832,  0.12505052, ..., -0.18696144,\n",
        "       -0.12505052, -0.06264832])"
       ]
      }
     ],
     "prompt_number": 9
    },
    {
     "cell_type": "markdown",
     "metadata": {},
     "source": [
      "Note that we didn't have to explicitly loop over all array elements. Most NumPy functions - including `sin()` - work element-wise. If an array is multiplied by a scalar, the multiplication is also applied element-wise.\n",
      "\n",
      "> This is called \"broadcasting\", but more about that another time ...\n",
      "\n",
      "To check if this actually worked, we plot the signal:"
     ]
    },
    {
     "cell_type": "code",
     "collapsed": false,
     "input": [
      "plot(sig)\n",
      "ylim(-1.1, 1.1)\n",
      "show()"
     ],
     "language": "python",
     "metadata": {},
     "outputs": [
      {
       "metadata": {},
       "output_type": "display_data",
       "png": "[encoded data removed]",
       "text": [
        "<matplotlib.figure.Figure at 0x7f54ab710350>"
       ]
      }
     ],
     "prompt_number": 10
    },
    {
     "cell_type": "markdown",
     "metadata": {},
     "source": [
      "Hmmm ... maybe we recognize something if we only plot the first 200 values."
     ]
    },
    {
     "cell_type": "code",
     "collapsed": false,
     "input": [
      "plot(sig[:200])\n",
      "xlabel(\"time (samples)\")\n",
      "ylim(-1.1, 1.1)\n",
      "show()"
     ],
     "language": "python",
     "metadata": {},
     "outputs": [
      {
       "metadata": {},
       "output_type": "display_data",
       "png": "[encoded data removed]",
       "text": [
        "<matplotlib.figure.Figure at 0x7f54ab710cd0>"
       ]
      }
     ],
     "prompt_number": 11
    },
    {
     "cell_type": "markdown",
     "metadata": {},
     "source": [
      "Better.\n",
      "\n",
      "If we want to show the time in milliseconds instead of samples, we have to specify the time instances:"
     ]
    },
    {
     "cell_type": "code",
     "collapsed": false,
     "input": [
      "plot(t[:200] * 1000, sig[:200])\n",
      "ylim(-1.1, 1.1)\n",
      "show()"
     ],
     "language": "python",
     "metadata": {},
     "outputs": [
      {
       "metadata": {},
       "output_type": "display_data",
       "png": "[encoded data removed]",
       "text": [
        "<matplotlib.figure.Figure at 0x7f5498d24b10>"
       ]
      }
     ],
     "prompt_number": 12
    },
    {
     "cell_type": "markdown",
     "metadata": {},
     "source": [
      "To avoid specifying the same range twice, we can use a `slice` object."
     ]
    },
    {
     "cell_type": "code",
     "collapsed": false,
     "input": [
      "sl = slice(200)\n",
      "plot(t[sl] * 1000, sig[sl])\n",
      "title(\"sine tone\")\n",
      "xlabel(\"time (milliseconds)\")\n",
      "ylim(-1.1, 1.1)\n",
      "show()"
     ],
     "language": "python",
     "metadata": {},
     "outputs": [
      {
       "metadata": {},
       "output_type": "display_data",
       "png": "[encoded data removed]",
       "text": [
        "<matplotlib.figure.Figure at 0x7f5499266890>"
       ]
      }
     ],
     "prompt_number": 13
    },
    {
     "cell_type": "code",
     "collapsed": false,
     "input": [
      "# TODO: savefig(\"sinetone.pgf\")"
     ],
     "language": "python",
     "metadata": {},
     "outputs": [],
     "prompt_number": 14
    },
    {
     "cell_type": "code",
     "collapsed": false,
     "input": [
      "# TODO: save WAV file"
     ],
     "language": "python",
     "metadata": {},
     "outputs": [],
     "prompt_number": 15
    },
    {
     "cell_type": "code",
     "collapsed": false,
     "input": [
      "# TODO: stereo signal, row vs. column"
     ],
     "language": "python",
     "metadata": {},
     "outputs": [],
     "prompt_number": 16
    },
    {
     "cell_type": "code",
     "collapsed": false,
     "input": [],
     "language": "python",
     "metadata": {},
     "outputs": [],
     "prompt_number": 16
    },
    {
     "cell_type": "code",
     "collapsed": false,
     "input": [
      "freq = array((500, 600))\n",
      "\n",
      "sig = sin(2 * pi * freq * t.reshape(-1, 1))\n",
      "\n",
      "sig"
     ],
     "language": "python",
     "metadata": {},
     "outputs": [
      {
       "metadata": {},
       "output_type": "pyout",
       "prompt_number": 17,
       "text": [
        "array([[ 0.        ,  0.        ],\n",
        "       [ 0.07117769,  0.08538143],\n",
        "       [ 0.14199432,  0.1701393 ],\n",
        "       ..., \n",
        "       [-0.21209065, -0.25365458],\n",
        "       [-0.14199432, -0.1701393 ],\n",
        "       [-0.07117769, -0.08538143]])"
       ]
      }
     ],
     "prompt_number": 17
    },
    {
     "cell_type": "code",
     "collapsed": false,
     "input": [
      "plot(sig[:200])\n",
      "ylim(-1.1, 1.1)\n",
      "show()"
     ],
     "language": "python",
     "metadata": {},
     "outputs": [
      {
       "metadata": {},
       "output_type": "display_data",
       "png": "[encoded data removed]",
       "text": [
        "<matplotlib.figure.Figure at 0x7f54ab7148d0>"
       ]
      }
     ],
     "prompt_number": 18
    },
    {
     "cell_type": "code",
     "collapsed": false,
     "input": [],
     "language": "python",
     "metadata": {},
     "outputs": [],
     "prompt_number": 18
    }
   ],
   "metadata": {}
  }
 ]
}